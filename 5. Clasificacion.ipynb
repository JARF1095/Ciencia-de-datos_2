{
 "cells": [
  {
   "attachments": {},
   "cell_type": "markdown",
   "id": "787ee540-3d85-4f7b-934e-5c0558b12e2b",
   "metadata": {},
   "source": [
    "# <font color = red> Machine learning\n",
    "\n",
    "<center>\n",
    "<img src = \"IA_and_Datascience.png\" width = \"400\">\n",
    "</center>\n",
    "\n",
    "<center>\n",
    "<img src = \"AI_VennDiagram_v2.png\" width = \"400\">\n",
    "</center>\n",
    "\n",
    "\n",
    "\n",
    "<center>\n",
    "<img src = \"Machine learning clasificacion.png\" width = \"400\">\n",
    "</center>\n",
    "\n",
    "<center>\n",
    "<img src = \"Tipos Machine Learning.png\" width = \"400\">\n",
    "</center>\n",
    "\n",
    "\n"
   ]
  },
  {
   "cell_type": "markdown",
   "id": "c92e6cca-0c3d-4578-ad38-604091b3d486",
   "metadata": {},
   "source": [
    "## <font color = darkblue> Clasificación\n",
    "\n",
    "La clasificación es un método de machine learning supervisado en el que el modelo intenta prever la etiqueta correcta de unos datos de entrada dados. En la clasificación, el modelo se entrena completamente con los datos de entrenamiento y, luego, se evalúa con los datos de prueba antes de utilizarse para realizar previsiones con nuevos datos no vistos."
   ]
  },
  {
   "cell_type": "markdown",
   "id": "d0ee8426-15ef-4b80-8286-309487b7ad30",
   "metadata": {},
   "source": [
    "Algunos aspectos relevantes del dataset avocado.csv son:\n",
    "\n",
    "* Date - The date of the observation\n",
    "* AveragePrice - the average price of a single avocado\n",
    "* type - conventional or organic\n",
    "* year - The year\n",
    "* Region - The city or region of the observation\n",
    "* Total Volume - Total number of avocados sold\n",
    "* 4046 - Total number of avocados with PLU 4046 sold\n",
    "* 4225 - Total number of avocados with PLU 4225 sold\n",
    "* 4770 - Total number of avocados with PLU 4770 sold\n",
    "* Total Bags - Total Number of Bags sold\n",
    "* Small Bags - Total Number of Small Bags sold\n",
    "* Large Bags - Total Number of Large Bags sold\n",
    "* XLarge Bags\t- Total Number of XLarge Bags sold\n"
   ]
  },
  {
   "cell_type": "markdown",
   "id": "2132f239-40a8-421f-a7eb-1193ddc2771c",
   "metadata": {},
   "source": [
    "El problema que se quiere resolver de este dataset es de clasificación. El dataset presenta el consumo de aguacate en regiones de Estados Unidos de América desde el 2015 al 2018. Las clases que se quieren predecir son el convencional y el orgánico."
   ]
  },
  {
   "cell_type": "markdown",
   "id": "584a3d06-9745-4ada-b754-fab0cf016aec",
   "metadata": {},
   "source": [
    "## Importar los paquetes necesarios para trabajar"
   ]
  },
  {
   "cell_type": "code",
   "execution_count": 1,
   "id": "1bc148f1-52b6-487b-b985-8fe296cf17d2",
   "metadata": {},
   "outputs": [],
   "source": [
    "import pandas as pd\n",
    "import numpy as np\n",
    "import matplotlib.pyplot as plt\n",
    "import warnings                                                                 "
   ]
  },
  {
   "cell_type": "markdown",
   "id": "6bda624f-57ab-4f61-ac2c-be675630edc8",
   "metadata": {},
   "source": [
    "## Vamos a leer el dataset avocado e ignorar los warnings"
   ]
  },
  {
   "cell_type": "code",
   "execution_count": 2,
   "id": "a4def851-e835-4a86-9772-cdc5bc7bac96",
   "metadata": {},
   "outputs": [
    {
     "data": {
      "text/html": [
       "<div>\n",
       "<style scoped>\n",
       "    .dataframe tbody tr th:only-of-type {\n",
       "        vertical-align: middle;\n",
       "    }\n",
       "\n",
       "    .dataframe tbody tr th {\n",
       "        vertical-align: top;\n",
       "    }\n",
       "\n",
       "    .dataframe thead th {\n",
       "        text-align: right;\n",
       "    }\n",
       "</style>\n",
       "<table border=\"1\" class=\"dataframe\">\n",
       "  <thead>\n",
       "    <tr style=\"text-align: right;\">\n",
       "      <th></th>\n",
       "      <th>Date</th>\n",
       "      <th>AveragePrice</th>\n",
       "      <th>Total Volume</th>\n",
       "      <th>4046</th>\n",
       "      <th>4225</th>\n",
       "      <th>4770</th>\n",
       "      <th>Total Bags</th>\n",
       "      <th>Small Bags</th>\n",
       "      <th>Large Bags</th>\n",
       "      <th>XLarge Bags</th>\n",
       "      <th>type</th>\n",
       "      <th>year</th>\n",
       "      <th>region</th>\n",
       "    </tr>\n",
       "  </thead>\n",
       "  <tbody>\n",
       "    <tr>\n",
       "      <th>0</th>\n",
       "      <td>2015-12-27</td>\n",
       "      <td>1.33</td>\n",
       "      <td>64236.62</td>\n",
       "      <td>1036.74</td>\n",
       "      <td>54454.85</td>\n",
       "      <td>48.16</td>\n",
       "      <td>8696.87</td>\n",
       "      <td>8603.62</td>\n",
       "      <td>93.25</td>\n",
       "      <td>0.0</td>\n",
       "      <td>conventional</td>\n",
       "      <td>2015</td>\n",
       "      <td>Albany</td>\n",
       "    </tr>\n",
       "    <tr>\n",
       "      <th>1</th>\n",
       "      <td>2015-12-20</td>\n",
       "      <td>1.35</td>\n",
       "      <td>54876.98</td>\n",
       "      <td>674.28</td>\n",
       "      <td>44638.81</td>\n",
       "      <td>58.33</td>\n",
       "      <td>9505.56</td>\n",
       "      <td>9408.07</td>\n",
       "      <td>97.49</td>\n",
       "      <td>0.0</td>\n",
       "      <td>conventional</td>\n",
       "      <td>2015</td>\n",
       "      <td>Albany</td>\n",
       "    </tr>\n",
       "    <tr>\n",
       "      <th>2</th>\n",
       "      <td>2015-12-13</td>\n",
       "      <td>0.93</td>\n",
       "      <td>118220.22</td>\n",
       "      <td>794.70</td>\n",
       "      <td>109149.67</td>\n",
       "      <td>130.50</td>\n",
       "      <td>8145.35</td>\n",
       "      <td>8042.21</td>\n",
       "      <td>103.14</td>\n",
       "      <td>0.0</td>\n",
       "      <td>conventional</td>\n",
       "      <td>2015</td>\n",
       "      <td>Albany</td>\n",
       "    </tr>\n",
       "    <tr>\n",
       "      <th>3</th>\n",
       "      <td>2015-12-06</td>\n",
       "      <td>1.08</td>\n",
       "      <td>78992.15</td>\n",
       "      <td>1132.00</td>\n",
       "      <td>71976.41</td>\n",
       "      <td>72.58</td>\n",
       "      <td>5811.16</td>\n",
       "      <td>5677.40</td>\n",
       "      <td>133.76</td>\n",
       "      <td>0.0</td>\n",
       "      <td>conventional</td>\n",
       "      <td>2015</td>\n",
       "      <td>Albany</td>\n",
       "    </tr>\n",
       "    <tr>\n",
       "      <th>4</th>\n",
       "      <td>2015-11-29</td>\n",
       "      <td>1.28</td>\n",
       "      <td>51039.60</td>\n",
       "      <td>941.48</td>\n",
       "      <td>43838.39</td>\n",
       "      <td>75.78</td>\n",
       "      <td>6183.95</td>\n",
       "      <td>5986.26</td>\n",
       "      <td>197.69</td>\n",
       "      <td>0.0</td>\n",
       "      <td>conventional</td>\n",
       "      <td>2015</td>\n",
       "      <td>Albany</td>\n",
       "    </tr>\n",
       "    <tr>\n",
       "      <th>...</th>\n",
       "      <td>...</td>\n",
       "      <td>...</td>\n",
       "      <td>...</td>\n",
       "      <td>...</td>\n",
       "      <td>...</td>\n",
       "      <td>...</td>\n",
       "      <td>...</td>\n",
       "      <td>...</td>\n",
       "      <td>...</td>\n",
       "      <td>...</td>\n",
       "      <td>...</td>\n",
       "      <td>...</td>\n",
       "      <td>...</td>\n",
       "    </tr>\n",
       "    <tr>\n",
       "      <th>7</th>\n",
       "      <td>2018-02-04</td>\n",
       "      <td>1.63</td>\n",
       "      <td>17074.83</td>\n",
       "      <td>2046.96</td>\n",
       "      <td>1529.20</td>\n",
       "      <td>0.00</td>\n",
       "      <td>13498.67</td>\n",
       "      <td>13066.82</td>\n",
       "      <td>431.85</td>\n",
       "      <td>0.0</td>\n",
       "      <td>organic</td>\n",
       "      <td>2018</td>\n",
       "      <td>WestTexNewMexico</td>\n",
       "    </tr>\n",
       "    <tr>\n",
       "      <th>8</th>\n",
       "      <td>2018-01-28</td>\n",
       "      <td>1.71</td>\n",
       "      <td>13888.04</td>\n",
       "      <td>1191.70</td>\n",
       "      <td>3431.50</td>\n",
       "      <td>0.00</td>\n",
       "      <td>9264.84</td>\n",
       "      <td>8940.04</td>\n",
       "      <td>324.80</td>\n",
       "      <td>0.0</td>\n",
       "      <td>organic</td>\n",
       "      <td>2018</td>\n",
       "      <td>WestTexNewMexico</td>\n",
       "    </tr>\n",
       "    <tr>\n",
       "      <th>9</th>\n",
       "      <td>2018-01-21</td>\n",
       "      <td>1.87</td>\n",
       "      <td>13766.76</td>\n",
       "      <td>1191.92</td>\n",
       "      <td>2452.79</td>\n",
       "      <td>727.94</td>\n",
       "      <td>9394.11</td>\n",
       "      <td>9351.80</td>\n",
       "      <td>42.31</td>\n",
       "      <td>0.0</td>\n",
       "      <td>organic</td>\n",
       "      <td>2018</td>\n",
       "      <td>WestTexNewMexico</td>\n",
       "    </tr>\n",
       "    <tr>\n",
       "      <th>10</th>\n",
       "      <td>2018-01-14</td>\n",
       "      <td>1.93</td>\n",
       "      <td>16205.22</td>\n",
       "      <td>1527.63</td>\n",
       "      <td>2981.04</td>\n",
       "      <td>727.01</td>\n",
       "      <td>10969.54</td>\n",
       "      <td>10919.54</td>\n",
       "      <td>50.00</td>\n",
       "      <td>0.0</td>\n",
       "      <td>organic</td>\n",
       "      <td>2018</td>\n",
       "      <td>WestTexNewMexico</td>\n",
       "    </tr>\n",
       "    <tr>\n",
       "      <th>11</th>\n",
       "      <td>2018-01-07</td>\n",
       "      <td>1.62</td>\n",
       "      <td>17489.58</td>\n",
       "      <td>2894.77</td>\n",
       "      <td>2356.13</td>\n",
       "      <td>224.53</td>\n",
       "      <td>12014.15</td>\n",
       "      <td>11988.14</td>\n",
       "      <td>26.01</td>\n",
       "      <td>0.0</td>\n",
       "      <td>organic</td>\n",
       "      <td>2018</td>\n",
       "      <td>WestTexNewMexico</td>\n",
       "    </tr>\n",
       "  </tbody>\n",
       "</table>\n",
       "<p>18249 rows × 13 columns</p>\n",
       "</div>"
      ],
      "text/plain": [
       "         Date  AveragePrice  Total Volume     4046       4225    4770  \\\n",
       "0  2015-12-27          1.33      64236.62  1036.74   54454.85   48.16   \n",
       "1  2015-12-20          1.35      54876.98   674.28   44638.81   58.33   \n",
       "2  2015-12-13          0.93     118220.22   794.70  109149.67  130.50   \n",
       "3  2015-12-06          1.08      78992.15  1132.00   71976.41   72.58   \n",
       "4  2015-11-29          1.28      51039.60   941.48   43838.39   75.78   \n",
       "..        ...           ...           ...      ...        ...     ...   \n",
       "7  2018-02-04          1.63      17074.83  2046.96    1529.20    0.00   \n",
       "8  2018-01-28          1.71      13888.04  1191.70    3431.50    0.00   \n",
       "9  2018-01-21          1.87      13766.76  1191.92    2452.79  727.94   \n",
       "10 2018-01-14          1.93      16205.22  1527.63    2981.04  727.01   \n",
       "11 2018-01-07          1.62      17489.58  2894.77    2356.13  224.53   \n",
       "\n",
       "    Total Bags  Small Bags  Large Bags  XLarge Bags          type  year  \\\n",
       "0      8696.87     8603.62       93.25          0.0  conventional  2015   \n",
       "1      9505.56     9408.07       97.49          0.0  conventional  2015   \n",
       "2      8145.35     8042.21      103.14          0.0  conventional  2015   \n",
       "3      5811.16     5677.40      133.76          0.0  conventional  2015   \n",
       "4      6183.95     5986.26      197.69          0.0  conventional  2015   \n",
       "..         ...         ...         ...          ...           ...   ...   \n",
       "7     13498.67    13066.82      431.85          0.0       organic  2018   \n",
       "8      9264.84     8940.04      324.80          0.0       organic  2018   \n",
       "9      9394.11     9351.80       42.31          0.0       organic  2018   \n",
       "10    10969.54    10919.54       50.00          0.0       organic  2018   \n",
       "11    12014.15    11988.14       26.01          0.0       organic  2018   \n",
       "\n",
       "              region  \n",
       "0             Albany  \n",
       "1             Albany  \n",
       "2             Albany  \n",
       "3             Albany  \n",
       "4             Albany  \n",
       "..               ...  \n",
       "7   WestTexNewMexico  \n",
       "8   WestTexNewMexico  \n",
       "9   WestTexNewMexico  \n",
       "10  WestTexNewMexico  \n",
       "11  WestTexNewMexico  \n",
       "\n",
       "[18249 rows x 13 columns]"
      ]
     },
     "execution_count": 2,
     "metadata": {},
     "output_type": "execute_result"
    }
   ],
   "source": [
    "warnings.filterwarnings('ignore') \n",
    "datos = pd.read_csv('avocado.csv',\n",
    "                 sep = ',', \n",
    "                 index_col = 0,\n",
    "                 parse_dates = ['Date']) \n",
    "datos"
   ]
  },
  {
   "cell_type": "markdown",
   "id": "8aa897a4-776c-43d4-b656-cd466cdc7259",
   "metadata": {},
   "source": [
    "## Cambiar los nombres de las columnas"
   ]
  },
  {
   "cell_type": "code",
   "execution_count": 3,
   "id": "3937b55d-cdaa-4106-810a-b9985450ca57",
   "metadata": {},
   "outputs": [
    {
     "data": {
      "text/plain": [
       "array(['Fecha', 'Precio_promedio', 'Aguacates_vendidos', 'PLU 4046 venta',\n",
       "       'PLU 4225 venta', 'PLU 4770 venta', 'Bolsas_Totales',\n",
       "       'Bolsas_chicas', 'Bolsas_grandes', 'Bolsas_extragrandes', 'tipo',\n",
       "       'year', 'region'], dtype=object)"
      ]
     },
     "execution_count": 3,
     "metadata": {},
     "output_type": "execute_result"
    }
   ],
   "source": [
    "datos = datos.rename(columns= {'4046':'PLU 4046 venta',\n",
    "                                '4225':'PLU 4225 venta',\n",
    "                                '4770':'PLU 4770 venta',\n",
    "                                'Total Volume':'Aguacates_vendidos',\n",
    "                                'AveragePrice':'Precio_promedio',\n",
    "                                'Total Bags':'Bolsas_Totales',\n",
    "                                'Small Bags':'Bolsas_chicas',\n",
    "                                'Large Bags':'Bolsas_grandes',\n",
    "                                'XLarge Bags':'Bolsas_extragrandes',\n",
    "                                'type':'tipo',\n",
    "                                'Date':'Fecha'})\n",
    "datos.columns.values"
   ]
  },
  {
   "cell_type": "markdown",
   "id": "56d1ab79-45f4-4cdd-b856-e443c3be60d4",
   "metadata": {},
   "source": [
    "## Ver los tipos de datos"
   ]
  },
  {
   "cell_type": "code",
   "execution_count": 4,
   "id": "2fe430a6-de01-46c4-9571-ab152f387f19",
   "metadata": {},
   "outputs": [
    {
     "data": {
      "text/plain": [
       "Fecha                  datetime64[ns]\n",
       "Precio_promedio               float64\n",
       "Aguacates_vendidos            float64\n",
       "PLU 4046 venta                float64\n",
       "PLU 4225 venta                float64\n",
       "PLU 4770 venta                float64\n",
       "Bolsas_Totales                float64\n",
       "Bolsas_chicas                 float64\n",
       "Bolsas_grandes                float64\n",
       "Bolsas_extragrandes           float64\n",
       "tipo                           object\n",
       "year                            int64\n",
       "region                         object\n",
       "dtype: object"
      ]
     },
     "execution_count": 4,
     "metadata": {},
     "output_type": "execute_result"
    }
   ],
   "source": [
    "datos.dtypes"
   ]
  },
  {
   "cell_type": "markdown",
   "id": "e97a754f-1188-4344-8be8-1058758c54d0",
   "metadata": {},
   "source": [
    "## Obtener los estadísticos del dataset"
   ]
  },
  {
   "cell_type": "code",
   "execution_count": 5,
   "id": "b6da5f11-8b74-4c9e-aa10-ea988b836cc6",
   "metadata": {},
   "outputs": [
    {
     "data": {
      "text/html": [
       "<div>\n",
       "<style scoped>\n",
       "    .dataframe tbody tr th:only-of-type {\n",
       "        vertical-align: middle;\n",
       "    }\n",
       "\n",
       "    .dataframe tbody tr th {\n",
       "        vertical-align: top;\n",
       "    }\n",
       "\n",
       "    .dataframe thead th {\n",
       "        text-align: right;\n",
       "    }\n",
       "</style>\n",
       "<table border=\"1\" class=\"dataframe\">\n",
       "  <thead>\n",
       "    <tr style=\"text-align: right;\">\n",
       "      <th></th>\n",
       "      <th>count</th>\n",
       "      <th>mean</th>\n",
       "      <th>min</th>\n",
       "      <th>25%</th>\n",
       "      <th>50%</th>\n",
       "      <th>75%</th>\n",
       "      <th>max</th>\n",
       "      <th>std</th>\n",
       "    </tr>\n",
       "  </thead>\n",
       "  <tbody>\n",
       "    <tr>\n",
       "      <th>Fecha</th>\n",
       "      <td>18249</td>\n",
       "      <td>2016-08-13 23:30:43.498273792</td>\n",
       "      <td>2015-01-04 00:00:00</td>\n",
       "      <td>2015-10-25 00:00:00</td>\n",
       "      <td>2016-08-14 00:00:00</td>\n",
       "      <td>2017-06-04 00:00:00</td>\n",
       "      <td>2018-03-25 00:00:00</td>\n",
       "      <td>NaN</td>\n",
       "    </tr>\n",
       "    <tr>\n",
       "      <th>Precio_promedio</th>\n",
       "      <td>18249.0</td>\n",
       "      <td>1.405978</td>\n",
       "      <td>0.44</td>\n",
       "      <td>1.1</td>\n",
       "      <td>1.37</td>\n",
       "      <td>1.66</td>\n",
       "      <td>3.25</td>\n",
       "      <td>0.402677</td>\n",
       "    </tr>\n",
       "    <tr>\n",
       "      <th>Aguacates_vendidos</th>\n",
       "      <td>18249.0</td>\n",
       "      <td>850644.013009</td>\n",
       "      <td>84.56</td>\n",
       "      <td>10838.58</td>\n",
       "      <td>107376.76</td>\n",
       "      <td>432962.29</td>\n",
       "      <td>62505646.52</td>\n",
       "      <td>3453545.355399</td>\n",
       "    </tr>\n",
       "    <tr>\n",
       "      <th>PLU 4046 venta</th>\n",
       "      <td>18249.0</td>\n",
       "      <td>293008.424531</td>\n",
       "      <td>0.0</td>\n",
       "      <td>854.07</td>\n",
       "      <td>8645.3</td>\n",
       "      <td>111020.2</td>\n",
       "      <td>22743616.17</td>\n",
       "      <td>1264989.081763</td>\n",
       "    </tr>\n",
       "    <tr>\n",
       "      <th>PLU 4225 venta</th>\n",
       "      <td>18249.0</td>\n",
       "      <td>295154.568356</td>\n",
       "      <td>0.0</td>\n",
       "      <td>3008.78</td>\n",
       "      <td>29061.02</td>\n",
       "      <td>150206.86</td>\n",
       "      <td>20470572.61</td>\n",
       "      <td>1204120.401135</td>\n",
       "    </tr>\n",
       "    <tr>\n",
       "      <th>PLU 4770 venta</th>\n",
       "      <td>18249.0</td>\n",
       "      <td>22839.735993</td>\n",
       "      <td>0.0</td>\n",
       "      <td>0.0</td>\n",
       "      <td>184.99</td>\n",
       "      <td>6243.42</td>\n",
       "      <td>2546439.11</td>\n",
       "      <td>107464.068435</td>\n",
       "    </tr>\n",
       "    <tr>\n",
       "      <th>Bolsas_Totales</th>\n",
       "      <td>18249.0</td>\n",
       "      <td>239639.20206</td>\n",
       "      <td>0.0</td>\n",
       "      <td>5088.64</td>\n",
       "      <td>39743.83</td>\n",
       "      <td>110783.37</td>\n",
       "      <td>19373134.37</td>\n",
       "      <td>986242.399216</td>\n",
       "    </tr>\n",
       "    <tr>\n",
       "      <th>Bolsas_chicas</th>\n",
       "      <td>18249.0</td>\n",
       "      <td>182194.686696</td>\n",
       "      <td>0.0</td>\n",
       "      <td>2849.42</td>\n",
       "      <td>26362.82</td>\n",
       "      <td>83337.67</td>\n",
       "      <td>13384586.8</td>\n",
       "      <td>746178.514962</td>\n",
       "    </tr>\n",
       "    <tr>\n",
       "      <th>Bolsas_grandes</th>\n",
       "      <td>18249.0</td>\n",
       "      <td>54338.088145</td>\n",
       "      <td>0.0</td>\n",
       "      <td>127.47</td>\n",
       "      <td>2647.71</td>\n",
       "      <td>22029.25</td>\n",
       "      <td>5719096.61</td>\n",
       "      <td>243965.964547</td>\n",
       "    </tr>\n",
       "    <tr>\n",
       "      <th>Bolsas_extragrandes</th>\n",
       "      <td>18249.0</td>\n",
       "      <td>3106.426507</td>\n",
       "      <td>0.0</td>\n",
       "      <td>0.0</td>\n",
       "      <td>0.0</td>\n",
       "      <td>132.5</td>\n",
       "      <td>551693.65</td>\n",
       "      <td>17692.894652</td>\n",
       "    </tr>\n",
       "    <tr>\n",
       "      <th>year</th>\n",
       "      <td>18249.0</td>\n",
       "      <td>2016.147899</td>\n",
       "      <td>2015.0</td>\n",
       "      <td>2015.0</td>\n",
       "      <td>2016.0</td>\n",
       "      <td>2017.0</td>\n",
       "      <td>2018.0</td>\n",
       "      <td>0.939938</td>\n",
       "    </tr>\n",
       "  </tbody>\n",
       "</table>\n",
       "</div>"
      ],
      "text/plain": [
       "                       count                           mean  \\\n",
       "Fecha                  18249  2016-08-13 23:30:43.498273792   \n",
       "Precio_promedio      18249.0                       1.405978   \n",
       "Aguacates_vendidos   18249.0                  850644.013009   \n",
       "PLU 4046 venta       18249.0                  293008.424531   \n",
       "PLU 4225 venta       18249.0                  295154.568356   \n",
       "PLU 4770 venta       18249.0                   22839.735993   \n",
       "Bolsas_Totales       18249.0                   239639.20206   \n",
       "Bolsas_chicas        18249.0                  182194.686696   \n",
       "Bolsas_grandes       18249.0                   54338.088145   \n",
       "Bolsas_extragrandes  18249.0                    3106.426507   \n",
       "year                 18249.0                    2016.147899   \n",
       "\n",
       "                                     min                  25%  \\\n",
       "Fecha                2015-01-04 00:00:00  2015-10-25 00:00:00   \n",
       "Precio_promedio                     0.44                  1.1   \n",
       "Aguacates_vendidos                 84.56             10838.58   \n",
       "PLU 4046 venta                       0.0               854.07   \n",
       "PLU 4225 venta                       0.0              3008.78   \n",
       "PLU 4770 venta                       0.0                  0.0   \n",
       "Bolsas_Totales                       0.0              5088.64   \n",
       "Bolsas_chicas                        0.0              2849.42   \n",
       "Bolsas_grandes                       0.0               127.47   \n",
       "Bolsas_extragrandes                  0.0                  0.0   \n",
       "year                              2015.0               2015.0   \n",
       "\n",
       "                                     50%                  75%  \\\n",
       "Fecha                2016-08-14 00:00:00  2017-06-04 00:00:00   \n",
       "Precio_promedio                     1.37                 1.66   \n",
       "Aguacates_vendidos             107376.76            432962.29   \n",
       "PLU 4046 venta                    8645.3             111020.2   \n",
       "PLU 4225 venta                  29061.02            150206.86   \n",
       "PLU 4770 venta                    184.99              6243.42   \n",
       "Bolsas_Totales                  39743.83            110783.37   \n",
       "Bolsas_chicas                   26362.82             83337.67   \n",
       "Bolsas_grandes                   2647.71             22029.25   \n",
       "Bolsas_extragrandes                  0.0                132.5   \n",
       "year                              2016.0               2017.0   \n",
       "\n",
       "                                     max             std  \n",
       "Fecha                2018-03-25 00:00:00             NaN  \n",
       "Precio_promedio                     3.25        0.402677  \n",
       "Aguacates_vendidos           62505646.52  3453545.355399  \n",
       "PLU 4046 venta               22743616.17  1264989.081763  \n",
       "PLU 4225 venta               20470572.61  1204120.401135  \n",
       "PLU 4770 venta                2546439.11   107464.068435  \n",
       "Bolsas_Totales               19373134.37   986242.399216  \n",
       "Bolsas_chicas                 13384586.8   746178.514962  \n",
       "Bolsas_grandes                5719096.61   243965.964547  \n",
       "Bolsas_extragrandes            551693.65    17692.894652  \n",
       "year                              2018.0        0.939938  "
      ]
     },
     "execution_count": 5,
     "metadata": {},
     "output_type": "execute_result"
    }
   ],
   "source": [
    "datos.describe().T"
   ]
  },
  {
   "cell_type": "markdown",
   "id": "702d1208-3e5a-49fb-840b-63440f7aee05",
   "metadata": {},
   "source": [
    "## Verificar si existen datos faltantes"
   ]
  },
  {
   "cell_type": "code",
   "execution_count": 6,
   "id": "14ffe747-c69a-4b82-849d-30aa007b9187",
   "metadata": {},
   "outputs": [
    {
     "data": {
      "text/plain": [
       "Fecha                  0\n",
       "Precio_promedio        0\n",
       "Aguacates_vendidos     0\n",
       "PLU 4046 venta         0\n",
       "PLU 4225 venta         0\n",
       "PLU 4770 venta         0\n",
       "Bolsas_Totales         0\n",
       "Bolsas_chicas          0\n",
       "Bolsas_grandes         0\n",
       "Bolsas_extragrandes    0\n",
       "tipo                   0\n",
       "year                   0\n",
       "region                 0\n",
       "dtype: int64"
      ]
     },
     "execution_count": 6,
     "metadata": {},
     "output_type": "execute_result"
    }
   ],
   "source": [
    "# Con esto se suman los datos faltantes\n",
    "datos.isnull().sum()"
   ]
  },
  {
   "cell_type": "markdown",
   "id": "a51e2ea0-8bc2-40ef-8abd-991e0da1ddb9",
   "metadata": {},
   "source": [
    "## Quitar la columna Fecha "
   ]
  },
  {
   "cell_type": "code",
   "execution_count": 7,
   "id": "cdbf21ff-829c-4449-82f7-60d215889410",
   "metadata": {},
   "outputs": [
    {
     "data": {
      "text/html": [
       "<div>\n",
       "<style scoped>\n",
       "    .dataframe tbody tr th:only-of-type {\n",
       "        vertical-align: middle;\n",
       "    }\n",
       "\n",
       "    .dataframe tbody tr th {\n",
       "        vertical-align: top;\n",
       "    }\n",
       "\n",
       "    .dataframe thead th {\n",
       "        text-align: right;\n",
       "    }\n",
       "</style>\n",
       "<table border=\"1\" class=\"dataframe\">\n",
       "  <thead>\n",
       "    <tr style=\"text-align: right;\">\n",
       "      <th></th>\n",
       "      <th>Precio_promedio</th>\n",
       "      <th>Aguacates_vendidos</th>\n",
       "      <th>PLU 4046 venta</th>\n",
       "      <th>PLU 4225 venta</th>\n",
       "      <th>PLU 4770 venta</th>\n",
       "      <th>Bolsas_Totales</th>\n",
       "      <th>Bolsas_chicas</th>\n",
       "      <th>Bolsas_grandes</th>\n",
       "      <th>Bolsas_extragrandes</th>\n",
       "      <th>tipo</th>\n",
       "      <th>year</th>\n",
       "      <th>region</th>\n",
       "    </tr>\n",
       "  </thead>\n",
       "  <tbody>\n",
       "    <tr>\n",
       "      <th>0</th>\n",
       "      <td>1.33</td>\n",
       "      <td>64236.62</td>\n",
       "      <td>1036.74</td>\n",
       "      <td>54454.85</td>\n",
       "      <td>48.16</td>\n",
       "      <td>8696.87</td>\n",
       "      <td>8603.62</td>\n",
       "      <td>93.25</td>\n",
       "      <td>0.0</td>\n",
       "      <td>conventional</td>\n",
       "      <td>2015</td>\n",
       "      <td>Albany</td>\n",
       "    </tr>\n",
       "    <tr>\n",
       "      <th>1</th>\n",
       "      <td>1.35</td>\n",
       "      <td>54876.98</td>\n",
       "      <td>674.28</td>\n",
       "      <td>44638.81</td>\n",
       "      <td>58.33</td>\n",
       "      <td>9505.56</td>\n",
       "      <td>9408.07</td>\n",
       "      <td>97.49</td>\n",
       "      <td>0.0</td>\n",
       "      <td>conventional</td>\n",
       "      <td>2015</td>\n",
       "      <td>Albany</td>\n",
       "    </tr>\n",
       "    <tr>\n",
       "      <th>2</th>\n",
       "      <td>0.93</td>\n",
       "      <td>118220.22</td>\n",
       "      <td>794.70</td>\n",
       "      <td>109149.67</td>\n",
       "      <td>130.50</td>\n",
       "      <td>8145.35</td>\n",
       "      <td>8042.21</td>\n",
       "      <td>103.14</td>\n",
       "      <td>0.0</td>\n",
       "      <td>conventional</td>\n",
       "      <td>2015</td>\n",
       "      <td>Albany</td>\n",
       "    </tr>\n",
       "    <tr>\n",
       "      <th>3</th>\n",
       "      <td>1.08</td>\n",
       "      <td>78992.15</td>\n",
       "      <td>1132.00</td>\n",
       "      <td>71976.41</td>\n",
       "      <td>72.58</td>\n",
       "      <td>5811.16</td>\n",
       "      <td>5677.40</td>\n",
       "      <td>133.76</td>\n",
       "      <td>0.0</td>\n",
       "      <td>conventional</td>\n",
       "      <td>2015</td>\n",
       "      <td>Albany</td>\n",
       "    </tr>\n",
       "    <tr>\n",
       "      <th>4</th>\n",
       "      <td>1.28</td>\n",
       "      <td>51039.60</td>\n",
       "      <td>941.48</td>\n",
       "      <td>43838.39</td>\n",
       "      <td>75.78</td>\n",
       "      <td>6183.95</td>\n",
       "      <td>5986.26</td>\n",
       "      <td>197.69</td>\n",
       "      <td>0.0</td>\n",
       "      <td>conventional</td>\n",
       "      <td>2015</td>\n",
       "      <td>Albany</td>\n",
       "    </tr>\n",
       "  </tbody>\n",
       "</table>\n",
       "</div>"
      ],
      "text/plain": [
       "   Precio_promedio  Aguacates_vendidos  PLU 4046 venta  PLU 4225 venta  \\\n",
       "0             1.33            64236.62         1036.74        54454.85   \n",
       "1             1.35            54876.98          674.28        44638.81   \n",
       "2             0.93           118220.22          794.70       109149.67   \n",
       "3             1.08            78992.15         1132.00        71976.41   \n",
       "4             1.28            51039.60          941.48        43838.39   \n",
       "\n",
       "   PLU 4770 venta  Bolsas_Totales  Bolsas_chicas  Bolsas_grandes  \\\n",
       "0           48.16         8696.87        8603.62           93.25   \n",
       "1           58.33         9505.56        9408.07           97.49   \n",
       "2          130.50         8145.35        8042.21          103.14   \n",
       "3           72.58         5811.16        5677.40          133.76   \n",
       "4           75.78         6183.95        5986.26          197.69   \n",
       "\n",
       "   Bolsas_extragrandes          tipo  year  region  \n",
       "0                  0.0  conventional  2015  Albany  \n",
       "1                  0.0  conventional  2015  Albany  \n",
       "2                  0.0  conventional  2015  Albany  \n",
       "3                  0.0  conventional  2015  Albany  \n",
       "4                  0.0  conventional  2015  Albany  "
      ]
     },
     "execution_count": 7,
     "metadata": {},
     "output_type": "execute_result"
    }
   ],
   "source": [
    "datos = datos.drop(columns=['Fecha'],axis=1)\n",
    "datos.head()"
   ]
  },
  {
   "cell_type": "markdown",
   "id": "c5f2fc6c-d1da-4e8c-80b5-30ef0abce652",
   "metadata": {},
   "source": [
    "## Cambiar el orden de las columnas\n"
   ]
  },
  {
   "cell_type": "code",
   "execution_count": 8,
   "id": "345e1a63-4416-46f0-adce-416283f6139e",
   "metadata": {},
   "outputs": [
    {
     "data": {
      "text/plain": [
       "array(['Precio_promedio', 'Aguacates_vendidos', 'PLU 4046 venta',\n",
       "       'PLU 4225 venta', 'PLU 4770 venta', 'Bolsas_Totales',\n",
       "       'Bolsas_chicas', 'Bolsas_grandes', 'Bolsas_extragrandes', 'tipo',\n",
       "       'year', 'region'], dtype=object)"
      ]
     },
     "execution_count": 8,
     "metadata": {},
     "output_type": "execute_result"
    }
   ],
   "source": [
    "datos.columns.values"
   ]
  },
  {
   "cell_type": "code",
   "execution_count": 9,
   "id": "4e45c6dc-5db2-4261-bc73-1cb173c108ea",
   "metadata": {},
   "outputs": [],
   "source": [
    "datos = datos[['Precio_promedio', 'Aguacates_vendidos', 'PLU 4046 venta',\n",
    "       'PLU 4225 venta', 'PLU 4770 venta', 'Bolsas_Totales',\n",
    "       'Bolsas_chicas', 'Bolsas_grandes', 'Bolsas_extragrandes', \n",
    "       'year', 'region','tipo']]"
   ]
  },
  {
   "cell_type": "markdown",
   "id": "ac9f9112-5636-4d97-a5fe-492f105ec333",
   "metadata": {},
   "source": [
    "## Contar por tipo"
   ]
  },
  {
   "cell_type": "code",
   "execution_count": 10,
   "id": "a6aaf3bb-4c59-4432-b0a4-0da7de0907fb",
   "metadata": {},
   "outputs": [
    {
     "data": {
      "text/plain": [
       "tipo\n",
       "conventional    9126\n",
       "organic         9123\n",
       "Name: Precio_promedio, dtype: int64"
      ]
     },
     "execution_count": 10,
     "metadata": {},
     "output_type": "execute_result"
    }
   ],
   "source": [
    "datos.groupby(\"tipo\").count()[\"Precio_promedio\"]"
   ]
  },
  {
   "cell_type": "code",
   "execution_count": 11,
   "id": "6edf1fbc-a9ab-43be-b801-3519b51bf663",
   "metadata": {},
   "outputs": [
    {
     "data": {
      "text/plain": [
       "region\n",
       "Albany                 338\n",
       "Atlanta                338\n",
       "BaltimoreWashington    338\n",
       "Boise                  338\n",
       "Boston                 338\n",
       "BuffaloRochester       338\n",
       "California             338\n",
       "Charlotte              338\n",
       "Chicago                338\n",
       "CincinnatiDayton       338\n",
       "Columbus               338\n",
       "DallasFtWorth          338\n",
       "Denver                 338\n",
       "Detroit                338\n",
       "GrandRapids            338\n",
       "GreatLakes             338\n",
       "HarrisburgScranton     338\n",
       "HartfordSpringfield    338\n",
       "Houston                338\n",
       "Indianapolis           338\n",
       "Jacksonville           338\n",
       "LasVegas               338\n",
       "LosAngeles             338\n",
       "Louisville             338\n",
       "MiamiFtLauderdale      338\n",
       "Midsouth               338\n",
       "Nashville              338\n",
       "NewOrleansMobile       338\n",
       "NewYork                338\n",
       "Northeast              338\n",
       "NorthernNewEngland     338\n",
       "Orlando                338\n",
       "Philadelphia           338\n",
       "PhoenixTucson          338\n",
       "Pittsburgh             338\n",
       "Plains                 338\n",
       "Portland               338\n",
       "RaleighGreensboro      338\n",
       "RichmondNorfolk        338\n",
       "Roanoke                338\n",
       "Sacramento             338\n",
       "SanDiego               338\n",
       "SanFrancisco           338\n",
       "Seattle                338\n",
       "SouthCarolina          338\n",
       "SouthCentral           338\n",
       "Southeast              338\n",
       "Spokane                338\n",
       "StLouis                338\n",
       "Syracuse               338\n",
       "Tampa                  338\n",
       "TotalUS                338\n",
       "West                   338\n",
       "WestTexNewMexico       335\n",
       "Name: Precio_promedio, dtype: int64"
      ]
     },
     "execution_count": 11,
     "metadata": {},
     "output_type": "execute_result"
    }
   ],
   "source": [
    "datos.groupby(\"region\").count()[\"Precio_promedio\"]"
   ]
  },
  {
   "cell_type": "markdown",
   "id": "abdc1f5b-822c-417a-96ed-5b42c6e880aa",
   "metadata": {},
   "source": [
    "## Precio promedio por tipo"
   ]
  },
  {
   "cell_type": "code",
   "execution_count": 12,
   "id": "3bf9eb99-ef51-4be8-ac89-97f6f7c80279",
   "metadata": {},
   "outputs": [
    {
     "data": {
      "text/plain": [
       "tipo\n",
       "conventional    1.158040\n",
       "organic         1.653999\n",
       "Name: Precio_promedio, dtype: float64"
      ]
     },
     "execution_count": 12,
     "metadata": {},
     "output_type": "execute_result"
    }
   ],
   "source": [
    "datos.groupby('tipo').mean([\"Precio_promedio\"])[\"Precio_promedio\"]"
   ]
  },
  {
   "cell_type": "markdown",
   "id": "3c1047a6-fdc2-4667-9695-8dc50c086fdc",
   "metadata": {},
   "source": [
    "## Histograma de los precios"
   ]
  },
  {
   "cell_type": "code",
   "execution_count": 13,
   "id": "f5642ba2-2e3b-42ee-b800-13f32cfbf3da",
   "metadata": {},
   "outputs": [
    {
     "data": {
      "image/png": "[encoded data removed]",
      "text/plain": [
       "<Figure size 600x400 with 1 Axes>"
      ]
     },
     "metadata": {},
     "output_type": "display_data"
    }
   ],
   "source": [
    "plt.figure(figsize = (6,4))\n",
    "plt.hist(datos[\"Precio_promedio\"], bins = 10, color = \"green\", edgecolor = \"black\", alpha = 0.7)\n",
    "plt.xlabel('Precio ($)')\n",
    "plt.ylabel('Frecuencia')\n",
    "plt.grid(axis = \"y\", linestyle = '--', color = \"black\", alpha = 0.5)\n",
    "plt.show()"
   ]
  },
  {
   "cell_type": "markdown",
   "id": "a1a22400-fcb8-4b5d-bc39-4225cad32e70",
   "metadata": {},
   "source": [
    "## Boxplot de los precios por tipo"
   ]
  },
  {
   "cell_type": "code",
   "execution_count": 14,
   "id": "88dd5e64-c3d0-489a-83cb-16fa0411af62",
   "metadata": {},
   "outputs": [
    {
     "data": {
      "image/png": "[encoded data removed]",
      "text/plain": [
       "<Figure size 600x400 with 1 Axes>"
      ]
     },
     "metadata": {},
     "output_type": "display_data"
    }
   ],
   "source": [
    "plt.figure(figsize=(6, 4))\n",
    "plt.boxplot([datos[datos[\"tipo\"] == tipo][\"Precio_promedio\"] for tipo in datos[\"tipo\"].unique()],\n",
    "            labels=datos[\"tipo\"].unique())\n",
    "\n",
    "# Personalización del gráfico\n",
    "plt.xlabel('Tipo de Aguacate')\n",
    "plt.ylabel('Precio Promedio ($)')\n",
    "plt.title('Distribución del Precio Promedio por Tipo')\n",
    "plt.grid(axis=\"y\", linestyle='--', color=\"black\", alpha=0.5)\n",
    "plt.show()"
   ]
  },
  {
   "cell_type": "markdown",
   "id": "a687ff50-9957-47f1-b75f-db96d7d12ae9",
   "metadata": {},
   "source": [
    "## Cambiar de variables categoricas a numericas"
   ]
  },
  {
   "cell_type": "code",
   "execution_count": 15,
   "id": "015b6500-1163-45a2-9f3a-1e1d8a673b77",
   "metadata": {},
   "outputs": [
    {
     "data": {
      "text/plain": [
       "Precio_promedio        float64\n",
       "Aguacates_vendidos     float64\n",
       "PLU 4046 venta         float64\n",
       "PLU 4225 venta         float64\n",
       "PLU 4770 venta         float64\n",
       "Bolsas_Totales         float64\n",
       "Bolsas_chicas          float64\n",
       "Bolsas_grandes         float64\n",
       "Bolsas_extragrandes    float64\n",
       "year                     int64\n",
       "region                   int32\n",
       "tipo                     int32\n",
       "dtype: object"
      ]
     },
     "execution_count": 15,
     "metadata": {},
     "output_type": "execute_result"
    }
   ],
   "source": [
    "from sklearn.preprocessing import LabelEncoder\n",
    "Encoder = LabelEncoder()\n",
    "datos['region'] = Encoder.fit_transform(datos['region'])\n",
    "datos['tipo'] = Encoder.fit_transform(datos['tipo'])\n",
    "datos.dtypes"
   ]
  },
  {
   "cell_type": "markdown",
   "id": "66fac46b-adfb-44ac-8f17-1acec9a1ee54",
   "metadata": {},
   "source": [
    "## Scatter plot por tipo"
   ]
  },
  {
   "cell_type": "code",
   "execution_count": 18,
   "id": "b369db65-2cf6-4f7d-a68d-b75b1374aa65",
   "metadata": {},
   "outputs": [
    {
     "data": {
      "image/png": "[encoded data removed]",
      "text/plain": [
       "<Figure size 600x400 with 2 Axes>"
      ]
     },
     "metadata": {},
     "output_type": "display_data"
    }
   ],
   "source": [
    "x = datos[\"Precio_promedio\"]\n",
    "y = datos[\"Aguacates_vendidos\"]\n",
    "colors = datos[\"tipo\"]\n",
    "\n",
    "plt.figure(figsize = (6,4))\n",
    "plt.scatter(x, y, c=colors, cmap='viridis')\n",
    "plt.title(\"Gráfico de Dispersión Aguacates\")\n",
    "\n",
    "# Etiquetas para los ejes\n",
    "plt.xlabel('Precio ($)')\n",
    "plt.ylabel('Volumen de ventas (piezas)')\n",
    "\n",
    "# Barra de colores para interpretar los valores\n",
    "plt.colorbar(label='Tipo')\n",
    "\n",
    "plt.show()"
   ]
  },
  {
   "cell_type": "markdown",
   "id": "5a020e7d-790f-4b01-8170-1f7a6cb67b97",
   "metadata": {},
   "source": [
    "## Tomar las variables descriptoras y la variable de respuesta y convertirlas a numpy"
   ]
  },
  {
   "cell_type": "code",
   "execution_count": 16,
   "id": "7e009483-4d33-4164-8808-2592a0706364",
   "metadata": {},
   "outputs": [],
   "source": [
    "N, M = datos.shape\n",
    "\n",
    "X = datos.iloc[:,0:M-1]\n",
    "y = datos.iloc[:,-1]\n",
    "\n",
    "X = X.to_numpy()\n",
    "y = y.to_numpy()"
   ]
  },
  {
   "cell_type": "markdown",
   "id": "276e9a63-c640-4dfc-9022-e657fc3b2ef2",
   "metadata": {},
   "source": [
    "## Estandarizar"
   ]
  },
  {
   "cell_type": "code",
   "execution_count": 17,
   "id": "1d747a27-0922-4929-a15f-41660cdaae38",
   "metadata": {},
   "outputs": [
    {
     "data": {
      "text/plain": [
       "array([[-0.18868864, -0.22771641, -0.23081597, ..., -0.17557961,\n",
       "        -1.22128204, -1.7002522 ],\n",
       "       [-0.13901962, -0.23042664, -0.23110251, ..., -0.17557961,\n",
       "        -1.22128204, -1.7002522 ],\n",
       "       [-1.18206895, -0.21208462, -0.23100731, ..., -0.17557961,\n",
       "        -1.22128204, -1.7002522 ],\n",
       "       ...,\n",
       "       [ 1.15237477, -0.24233073, -0.2306933 , ..., -0.17557961,\n",
       "         1.97050371,  1.70081131],\n",
       "       [ 1.30138182, -0.24162464, -0.2304279 , ..., -0.17557961,\n",
       "         1.97050371,  1.70081131],\n",
       "       [ 0.53151208, -0.24125273, -0.22934712, ..., -0.17557961,\n",
       "         1.97050371,  1.70081131]])"
      ]
     },
     "execution_count": 17,
     "metadata": {},
     "output_type": "execute_result"
    }
   ],
   "source": [
    "from sklearn.preprocessing import StandardScaler\n",
    "\n",
    "# Estandarización\n",
    "scaler = StandardScaler()\n",
    "X_estandar = scaler.fit_transform(X)\n",
    "\n"
   ]
  },
  {
   "attachments": {},
   "cell_type": "markdown",
   "id": "c615331d-a19a-4ad9-8226-526eac788136",
   "metadata": {},
   "source": [
    "## Dividir los datos en entrenamiento y prueba\n",
    "\n",
    "<center>\n",
    "    <img src = \"TrainTestRepeat.png\" width = \"400\">\n",
    "</center>"
   ]
  },
  {
   "cell_type": "code",
   "execution_count": 20,
   "id": "d7040460-50bb-4e76-b534-1cdbccff2ecb",
   "metadata": {},
   "outputs": [],
   "source": [
    "from sklearn.model_selection import train_test_split\n",
    "X_train, X_test, y_train, y_test = train_test_split(X_estandar, y, test_size=0.2, random_state=42)"
   ]
  },
  {
   "cell_type": "markdown",
   "id": "ecd76ff5-e9be-4cd4-a956-a5d465551371",
   "metadata": {},
   "source": [
    "## Importar clasificadores y metricas\n",
    "<center>\n",
    "    <img src = \"confusion_matix_example.png\" width = 400\">\n",
    "</center>"
   ]
  },
  {
   "cell_type": "code",
   "execution_count": 22,
   "id": "b8ec583a-19bd-4db7-a706-7e287cf9e171",
   "metadata": {},
   "outputs": [],
   "source": [
    "from sklearn.linear_model import LogisticRegression\n",
    "from sklearn.naive_bayes import GaussianNB\n",
    "from sklearn.svm import SVC\n",
    "from sklearn.metrics import accuracy_score, classification_report, confusion_matrix"
   ]
  },
  {
   "cell_type": "markdown",
   "id": "d5a9e1f7-3b11-4aba-9b07-9a89be7e7a4c",
   "metadata": {},
   "source": [
    "## Regresión Logística\n",
    "\n",
    "<center>\n",
    "    <img src = \"logistic_regresion.png\" width = \"400\">\n",
    "</center>"
   ]
  },
  {
   "cell_type": "code",
   "execution_count": 23,
   "id": "0396a85f-c49e-4310-8012-049eabbbaf51",
   "metadata": {},
   "outputs": [
    {
     "name": "stdout",
     "output_type": "stream",
     "text": [
      "Precisión (Accuracy): 0.9189\n",
      "\n",
      "Reporte de Clasificación:\n",
      "              precision    recall  f1-score   support\n",
      "\n",
      "           0       0.94      0.89      0.92      1820\n",
      "           1       0.90      0.94      0.92      1830\n",
      "\n",
      "    accuracy                           0.92      3650\n",
      "   macro avg       0.92      0.92      0.92      3650\n",
      "weighted avg       0.92      0.92      0.92      3650\n",
      "\n",
      "\n",
      "Matriz de Confusión:\n",
      "[[1625  195]\n",
      " [ 101 1729]]\n"
     ]
    }
   ],
   "source": [
    "lr = LogisticRegression()\n",
    "\n",
    "lr.fit(X_train, y_train)\n",
    "\n",
    "y_pred = lr.predict(X_test)\n",
    "\n",
    "# 1. Precisión (Accuracy)\n",
    "accuracy = accuracy_score(y_test, y_pred)\n",
    "print(f\"Precisión (Accuracy): {accuracy:.4f}\")\n",
    "\n",
    "# 2. Reporte de clasificación (Precision, Recall, F1-Score)\n",
    "print(\"\\nReporte de Clasificación:\")\n",
    "print(classification_report(y_test, y_pred))\n",
    "\n",
    "# 3. Matriz de confusión\n",
    "print(\"\\nMatriz de Confusión:\")\n",
    "print(confusion_matrix(y_test, y_pred))"
   ]
  },
  {
   "cell_type": "markdown",
   "id": "590e3fae-a47f-4c98-ba90-5de8d4317cc8",
   "metadata": {},
   "source": [
    "## Naives Bayes\n",
    "<center>\n",
    "    <img src = \"Naives_Bayes.jpg\" width = \"400\">\n",
    "</center>"
   ]
  },
  {
   "cell_type": "code",
   "execution_count": 24,
   "id": "1a6fd5a4-2920-41b8-b6fc-0bf05ac1a1f5",
   "metadata": {},
   "outputs": [
    {
     "name": "stdout",
     "output_type": "stream",
     "text": [
      "Precisión (Accuracy): 0.8690\n",
      "\n",
      "Reporte de Clasificación:\n",
      "              precision    recall  f1-score   support\n",
      "\n",
      "           0       0.97      0.76      0.85      1820\n",
      "           1       0.80      0.98      0.88      1830\n",
      "\n",
      "    accuracy                           0.87      3650\n",
      "   macro avg       0.89      0.87      0.87      3650\n",
      "weighted avg       0.89      0.87      0.87      3650\n",
      "\n",
      "\n",
      "Matriz de Confusión:\n",
      "[[1384  436]\n",
      " [  42 1788]]\n"
     ]
    }
   ],
   "source": [
    "nb = GaussianNB()\n",
    "\n",
    "nb.fit(X_train, y_train)\n",
    "\n",
    "y_pred = nb.predict(X_test)\n",
    "\n",
    "# 1. Precisión (Accuracy)\n",
    "accuracy = accuracy_score(y_test, y_pred)\n",
    "print(f\"Precisión (Accuracy): {accuracy:.4f}\")\n",
    "\n",
    "# 2. Reporte de clasificación (Precision, Recall, F1-Score)\n",
    "print(\"\\nReporte de Clasificación:\")\n",
    "print(classification_report(y_test, y_pred))\n",
    "\n",
    "# 3. Matriz de confusión\n",
    "print(\"\\nMatriz de Confusión:\")\n",
    "print(confusion_matrix(y_test, y_pred))"
   ]
  },
  {
   "cell_type": "markdown",
   "id": "0848a652-28f3-45d0-a187-6eecbbd1cdf2",
   "metadata": {},
   "source": [
    "## SVM\n",
    "<center>\n",
    "    <img src = \"SVM.png\" width = \"400\">\n",
    "</center>\n"
   ]
  },
  {
   "cell_type": "code",
   "execution_count": 25,
   "id": "6215145c-776e-4d3e-892e-7ae160d92ef3",
   "metadata": {},
   "outputs": [
    {
     "name": "stdout",
     "output_type": "stream",
     "text": [
      "Precisión (Accuracy): 0.9422\n",
      "\n",
      "Reporte de Clasificación:\n",
      "              precision    recall  f1-score   support\n",
      "\n",
      "           0       0.97      0.91      0.94      1820\n",
      "           1       0.92      0.97      0.94      1830\n",
      "\n",
      "    accuracy                           0.94      3650\n",
      "   macro avg       0.94      0.94      0.94      3650\n",
      "weighted avg       0.94      0.94      0.94      3650\n",
      "\n",
      "\n",
      "Matriz de Confusión:\n",
      "[[1665  155]\n",
      " [  56 1774]]\n"
     ]
    }
   ],
   "source": [
    "sv = SVC()\n",
    "\n",
    "sv.fit(X_train, y_train)\n",
    "\n",
    "y_pred = sv.predict(X_test)\n",
    "\n",
    "# 1. Precisión (Accuracy)\n",
    "accuracy = accuracy_score(y_test, y_pred)\n",
    "print(f\"Precisión (Accuracy): {accuracy:.4f}\")\n",
    "\n",
    "# 2. Reporte de clasificación (Precision, Recall, F1-Score)\n",
    "print(\"\\nReporte de Clasificación:\")\n",
    "print(classification_report(y_test, y_pred))\n",
    "\n",
    "# 3. Matriz de confusión\n",
    "print(\"\\nMatriz de Confusión:\")\n",
    "print(confusion_matrix(y_test, y_pred))"
   ]
  }
 ],
 "metadata": {
  "kernelspec": {
   "display_name": "Python 3 (ipykernel)",
   "language": "python",
   "name": "python3"
  },
  "language_info": {
   "codemirror_mode": {
    "name": "ipython",
    "version": 3
   },
   "file_extension": ".py",
   "mimetype": "text/x-python",
   "name": "python",
   "nbconvert_exporter": "python",
   "pygments_lexer": "ipython3",
   "version": "3.11.7"
  }
 },
 "nbformat": 4,
 "nbformat_minor": 5
}
