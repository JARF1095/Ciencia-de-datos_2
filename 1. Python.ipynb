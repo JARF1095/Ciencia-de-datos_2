{
 "cells": [
  {
   "cell_type": "markdown",
   "id": "c2193980-f1e4-4011-9b1a-128a2803ad14",
   "metadata": {},
   "source": [
    "# <font color = darkblue> Python\n",
    "\n",
    "\n",
    "<center><img src=\"Python_logo.png\" width=\"500\"></center>"
   ]
  },
  {
   "cell_type": "markdown",
   "id": "9f5c41ec-797a-4a99-930c-a6dc6fdd55d7",
   "metadata": {},
   "source": [
    "## <font color = red> Generalidades\n",
    "\n",
    "Python es un lenguaje de alto nivel de programación interpretado cuya filosofía hace hincapié en la legibilidad de su código. Se trata de un lenguaje de programación multiparadigma, ya que soporta parcialmente la orientación a objetos, programación imperativa y, en menor medida, programación funcional. Es un lenguaje interpretado, dinámico y multiplataforma."
   ]
  },
  {
   "cell_type": "markdown",
   "id": "ceb05219-21e5-4be1-8a7c-66eee7f6b3c1",
   "metadata": {},
   "source": [
    "### Imprimir algo en pantalla"
   ]
  },
  {
   "cell_type": "code",
   "execution_count": 22,
   "id": "6ffcd2e8-650f-4972-a468-ad261df46927",
   "metadata": {},
   "outputs": [
    {
     "name": "stdout",
     "output_type": "stream",
     "text": [
      "Hola Mundo\n"
     ]
    }
   ],
   "source": [
    "print(\"Hola Mundo\")"
   ]
  },
  {
   "cell_type": "markdown",
   "id": "3d2811f4-9e3a-4947-b913-e37bdc7a6741",
   "metadata": {},
   "source": [
    "### Colocar comentarios en Python"
   ]
  },
  {
   "cell_type": "code",
   "execution_count": 23,
   "id": "96213c57-619e-48a4-8e2f-337c6e50bd12",
   "metadata": {},
   "outputs": [],
   "source": [
    "# Esto no se ejecuta en el código"
   ]
  },
  {
   "cell_type": "markdown",
   "id": "a042294a-38fd-45ae-ba26-543701b25fc2",
   "metadata": {},
   "source": [
    "### Operaciones con números en Python"
   ]
  },
  {
   "cell_type": "code",
   "execution_count": 3,
   "id": "fc446710-b477-40e2-b8a9-ccef0af45df6",
   "metadata": {},
   "outputs": [
    {
     "data": {
      "text/plain": [
       "2"
      ]
     },
     "execution_count": 3,
     "metadata": {},
     "output_type": "execute_result"
    }
   ],
   "source": [
    "1 + 1 "
   ]
  },
  {
   "cell_type": "code",
   "execution_count": 4,
   "id": "bea275e6-4cbc-486c-babc-9ec5409702b2",
   "metadata": {},
   "outputs": [
    {
     "data": {
      "text/plain": [
       "2.3999999999999995"
      ]
     },
     "execution_count": 4,
     "metadata": {},
     "output_type": "execute_result"
    }
   ],
   "source": [
    "7.8 - 5.4"
   ]
  },
  {
   "cell_type": "markdown",
   "id": "aafd19f9-0d8b-4e95-b4bc-ba2844617ddc",
   "metadata": {},
   "source": [
    "## <font color = red> Variables y tipos de datos"
   ]
  },
  {
   "cell_type": "markdown",
   "id": "5ef048ce-5258-403b-a760-6b244683c85b",
   "metadata": {},
   "source": [
    "En Python, declarar y asignar una variable es muy sencillo. Simplemente se escribe el nombre de la variable, seguido del signo igual y el valor que queremos almacenar."
   ]
  },
  {
   "cell_type": "code",
   "execution_count": 29,
   "id": "e9b3240b-7fb7-42fe-bf0e-62cc6ef9958f",
   "metadata": {},
   "outputs": [],
   "source": [
    "nombre = \"Jorge\"\n",
    "edad = 30 \n",
    "Masculino = True"
   ]
  },
  {
   "cell_type": "markdown",
   "id": "b0e22835-10e3-4df5-8696-8056cca9c384",
   "metadata": {},
   "source": [
    "### Reglas para definir variables\n",
    "* Los nombres de las variables deben comenzar con una letra o guion bajo (_).\n",
    "* No se permiten espacios entre los nombres de las variables. Se pueden utilizar guiones bajos, o puntos para separar las palabras.\n",
    "* No se pueden utilizar palabras reservadas como el if, else, while, etc.\n",
    "* Se deben usar nombres descriptivos y claros para facilitar la lectura del código."
   ]
  },
  {
   "cell_type": "markdown",
   "id": "898c4f32-1140-4ef2-a519-5d09d6c96c78",
   "metadata": {},
   "source": [
    "### Variables numéricas\n",
    "* Enteros: Son números sin decimales, como 5, -6 y 100.\n",
    "* Flotantes: Son números con decimales, como 4.5, 3.1416 y 1.0\n",
    "* Complejos: Son números con una parte real y una parte imaginaria"
   ]
  },
  {
   "cell_type": "code",
   "execution_count": 32,
   "id": "0c2bb0a4-231c-4497-90e5-435a532f5715",
   "metadata": {},
   "outputs": [],
   "source": [
    "entero = 51  # Variable entera\n",
    "flotante = 8.54   # Variable flotante\n",
    "complejo = 5 + 3j  # Número complejo"
   ]
  },
  {
   "cell_type": "markdown",
   "id": "f396f46d-78a3-462c-bc43-5e24784159d9",
   "metadata": {},
   "source": [
    "### Cadenas (strings)"
   ]
  },
  {
   "cell_type": "code",
   "execution_count": 43,
   "id": "7708465a-1b22-4e33-9194-b076e978fc98",
   "metadata": {},
   "outputs": [],
   "source": [
    "saludo = \"Hola Mundo!\"   # Comillas dobles\n",
    "Nombre = 'Jorge'         # Comillas simples\n",
    "saludo_largo = '''\n",
    "Hola, \n",
    "¿Cómo están el día de hoy?\n",
    "Bienvenidos al curso de Ciencia de Datos\n",
    "para la Agricultura\n",
    "'''"
   ]
  },
  {
   "cell_type": "markdown",
   "id": "ddb93752-e205-4e1d-b8f4-8e2cf05a61ff",
   "metadata": {},
   "source": [
    "### Booleanos"
   ]
  },
  {
   "cell_type": "code",
   "execution_count": 41,
   "id": "d0bac64e-b646-487c-a456-044e1c93d806",
   "metadata": {},
   "outputs": [],
   "source": [
    "verdadero = True\n",
    "Falso = False\n",
    "Negacion = not True"
   ]
  },
  {
   "cell_type": "markdown",
   "id": "870d3af1-4a57-4e86-8852-9ff797fc660e",
   "metadata": {},
   "source": [
    "### Imprimir algunas variables"
   ]
  },
  {
   "cell_type": "code",
   "execution_count": 44,
   "id": "9d4125a0-c785-4462-b8eb-cf4895f89169",
   "metadata": {},
   "outputs": [
    {
     "name": "stdout",
     "output_type": "stream",
     "text": [
      "\n",
      "Hola, \n",
      "¿Cómo están el día de hoy?\n",
      "Bienvenidos al curso de Ciencia de Datos\n",
      "para la Agricultura\n",
      "\n"
     ]
    }
   ],
   "source": [
    "print(saludo_largo)"
   ]
  },
  {
   "cell_type": "code",
   "execution_count": 45,
   "id": "bc0cc5f3-23c2-4a67-9373-76768c9710ab",
   "metadata": {},
   "outputs": [
    {
     "name": "stdout",
     "output_type": "stream",
     "text": [
      "51\n"
     ]
    }
   ],
   "source": [
    "print(entero)"
   ]
  },
  {
   "cell_type": "markdown",
   "id": "a54b7fff-bf5d-42df-adfc-b4b4d4f1da63",
   "metadata": {},
   "source": [
    "## <font color = red> Operaciones matemáticas básicas \n",
    "* Suma: a + b\n",
    "* Resta: a - b\n",
    "* Multiplicación: a*b\n",
    "* División: a/b\n",
    "* Parte entera: a//b\n",
    "* Potenciación: a**b\n",
    "* Módulo: a%b"
   ]
  },
  {
   "cell_type": "code",
   "execution_count": 46,
   "id": "0ecab4d3-7ba4-4820-bbbf-8d7f0bde5435",
   "metadata": {},
   "outputs": [],
   "source": [
    "a, b = 20, 6"
   ]
  },
  {
   "cell_type": "code",
   "execution_count": 48,
   "id": "a35d9112",
   "metadata": {},
   "outputs": [
    {
     "data": {
      "text/plain": [
       "26"
      ]
     },
     "execution_count": 48,
     "metadata": {},
     "output_type": "execute_result"
    }
   ],
   "source": [
    "suma = a + b\n",
    "suma"
   ]
  },
  {
   "cell_type": "code",
   "execution_count": 49,
   "id": "fbbc6ea7-5d2a-4593-858a-152d66e415f8",
   "metadata": {},
   "outputs": [
    {
     "data": {
      "text/plain": [
       "14"
      ]
     },
     "execution_count": 49,
     "metadata": {},
     "output_type": "execute_result"
    }
   ],
   "source": [
    "resta = a - b\n",
    "resta"
   ]
  },
  {
   "cell_type": "code",
   "execution_count": 51,
   "id": "b8a031e6-342a-4385-a1c0-ad0de891ef16",
   "metadata": {},
   "outputs": [
    {
     "data": {
      "text/plain": [
       "120"
      ]
     },
     "execution_count": 51,
     "metadata": {},
     "output_type": "execute_result"
    }
   ],
   "source": [
    "multiplicacion = a * b\n",
    "multiplicacion"
   ]
  },
  {
   "cell_type": "code",
   "execution_count": 52,
   "id": "dcf68bc2-9c4f-4212-8562-f342fac57de4",
   "metadata": {},
   "outputs": [
    {
     "data": {
      "text/plain": [
       "3.3333333333333335"
      ]
     },
     "execution_count": 52,
     "metadata": {},
     "output_type": "execute_result"
    }
   ],
   "source": [
    "division = a / b\n",
    "division"
   ]
  },
  {
   "cell_type": "code",
   "execution_count": 55,
   "id": "164ab70d-b2f5-40f8-b783-f1364a51e09b",
   "metadata": {},
   "outputs": [
    {
     "data": {
      "text/plain": [
       "3"
      ]
     },
     "execution_count": 55,
     "metadata": {},
     "output_type": "execute_result"
    }
   ],
   "source": [
    "parte_entera = a // b\n",
    "parte_entera"
   ]
  },
  {
   "cell_type": "markdown",
   "id": "3669ef5a-8e2c-4510-9359-20ab6284a0e4",
   "metadata": {},
   "source": [
    "potencia = a ** b\n",
    "potencia"
   ]
  },
  {
   "cell_type": "code",
   "execution_count": 60,
   "id": "a73e0f81-85fa-4ad2-9398-3169be02ca8a",
   "metadata": {},
   "outputs": [
    {
     "data": {
      "text/plain": [
       "2"
      ]
     },
     "execution_count": 60,
     "metadata": {},
     "output_type": "execute_result"
    }
   ],
   "source": [
    "modulo = a % b\n",
    "modulo"
   ]
  },
  {
   "cell_type": "markdown",
   "id": "abbc1306-c9ff-4c89-b760-258c8ecc392d",
   "metadata": {},
   "source": [
    "### Conversion de tipos numéricos"
   ]
  },
  {
   "cell_type": "code",
   "execution_count": 69,
   "id": "2cf977cf-5475-4c3d-aadb-8938a0c2e0bb",
   "metadata": {},
   "outputs": [
    {
     "name": "stdout",
     "output_type": "stream",
     "text": [
      "5.0\n",
      "(5+0j)\n",
      "5\n"
     ]
    }
   ],
   "source": [
    "entero = 5\n",
    "flotante = float(entero)   # Convertir a flotante\n",
    "complejo = complex(entero) # Convertir a complejo\n",
    "entero_2 = int(flotante)   # Convertir a entero\n",
    "\n",
    "print(flotante)\n",
    "print(complejo)\n",
    "print(entero_2)"
   ]
  },
  {
   "cell_type": "markdown",
   "id": "27980d24-b242-472d-b78e-f9581f968749",
   "metadata": {},
   "source": [
    "## <font color = red>  Operadores de comparación, lógicos y de asignación\n",
    "\n",
    "Los operadores lógicos en Python se utilizan para trabajar con valores booleanos y realizar operaciones de lógica booleana. Los valores booleanos, o bool, son un tipo que solo puede tomar los valores True o False. "
   ]
  },
  {
   "cell_type": "markdown",
   "id": "8038508a-cdd5-40d8-94cf-9c8cfdc1a4a7",
   "metadata": {},
   "source": [
    "### Operadores de comparación\n",
    "\n",
    "Los operadores de comparación son:\n",
    "* Igual: ==\n",
    "* No igual: !=\n",
    "* Más grande que: >\n",
    "* Más pequeño que: <\n",
    "* Mayor o igual que: >=\n",
    "* Menor o igual que: <="
   ]
  },
  {
   "cell_type": "code",
   "execution_count": null,
   "id": "2302be58-54e7-4ed5-b2bd-41ed18c0aca9",
   "metadata": {},
   "outputs": [],
   "source": [
    "x = 5\n",
    "y = 15\n",
    "print(x < y)  # Se pregunta si x < y\n",
    "print(x == y)  # Se pregunta si x = y\n",
    "print(x > y)  # Se pregunta si x < y\n",
    "print(x <= y)  # Se pregunta si x <= y\n",
    "print(x != y)  # Se pregunta si x no igual y\n",
    "print(x >= y)  # Se pregunta si x <= y"
   ]
  },
  {
   "cell_type": "markdown",
   "id": "95d09a4c-0046-4898-b897-9c19ecd6e652",
   "metadata": {},
   "source": [
    "### Operadores lógicos"
   ]
  },
  {
   "cell_type": "code",
   "execution_count": 6,
   "id": "5d5e2750-72de-49f4-afda-2a5c2324b747",
   "metadata": {},
   "outputs": [
    {
     "name": "stdout",
     "output_type": "stream",
     "text": [
      "False\n",
      "True\n",
      "False\n"
     ]
    }
   ],
   "source": [
    "print(True and False)  # False\n",
    "print(True or False)   # True\n",
    "print(not True)        # False"
   ]
  },
  {
   "cell_type": "markdown",
   "id": "ed77c150-d8ec-4674-8a94-a2a4bf5ef17f",
   "metadata": {},
   "source": [
    "### Operadores de asignación\n",
    "\n",
    "Estos operaodores asignar un determinado valor a una variable, el más utilizado es el signo \"=\", pero existen otros operadores de asignación que permiten mayor practicidad en el código. Algunos de ellos son:\n",
    "\n",
    "* += a: sirve para incrementar en $a$ unidades la variable asignada.\n",
    "* -= a: sirve para decrementar en $a$ unidades la variable asignada.\n",
    "* *= a: sirve para multiplicar por $a$ unidades la variable asignada.\n",
    "* /= a: sirve para dividir en $a$ unidades la variable asignada.\n",
    "* **= a: sirve para elevar en $a$ unidades la variable asignada."
   ]
  },
  {
   "cell_type": "code",
   "execution_count": 13,
   "id": "a0a250d3-c380-4604-a33f-d0cbc92cdf16",
   "metadata": {},
   "outputs": [
    {
     "name": "stdout",
     "output_type": "stream",
     "text": [
      "Valor antes\n",
      "10\n",
      "Valor despues\n",
      "12\n"
     ]
    }
   ],
   "source": [
    "a = 10\n",
    "print(\"Valor antes\")\n",
    "print(a)\n",
    "# Incrementar en 2 la variable a\n",
    "a += 2\n",
    "print(\"Valor despues\")\n",
    "print(a)"
   ]
  },
  {
   "cell_type": "code",
   "execution_count": 14,
   "id": "3d953ffd-c88b-4271-b38e-31882bd66600",
   "metadata": {},
   "outputs": [
    {
     "name": "stdout",
     "output_type": "stream",
     "text": [
      "Valor antes\n",
      "10\n",
      "Valor despues\n",
      "7\n"
     ]
    }
   ],
   "source": [
    "a = 10\n",
    "print(\"Valor antes\")\n",
    "print(a)\n",
    "# Disminuir en 3 la variable a\n",
    "a -= 3\n",
    "print(\"Valor despues\")\n",
    "print(a)"
   ]
  },
  {
   "cell_type": "code",
   "execution_count": 15,
   "id": "7318d4a7-3fac-4d29-a9fc-85060db7350c",
   "metadata": {},
   "outputs": [
    {
     "name": "stdout",
     "output_type": "stream",
     "text": [
      "Valor antes\n",
      "10\n",
      "Valor despues\n",
      "60\n"
     ]
    }
   ],
   "source": [
    "a = 10\n",
    "print(\"Valor antes\")\n",
    "print(a)\n",
    "# Multiplicar en 6 la variable a\n",
    "a *= 6\n",
    "print(\"Valor despues\")\n",
    "print(a)"
   ]
  },
  {
   "cell_type": "markdown",
   "id": "830cf7a3-e07b-4ceb-875d-646148a4e530",
   "metadata": {},
   "source": [
    "## <font color = red>  Estructuras de control\n",
    "\n",
    "Las estructuras de control, también conocidas como sentencias de control, son construcciones sintácticas que permiten a los programadores controlar el orden y la lógica de las operaciones de un programa. "
   ]
  },
  {
   "cell_type": "markdown",
   "id": "c088383e-d0e3-4368-a8f6-840389b22e77",
   "metadata": {},
   "source": [
    "## <font color = darkblue> Condicionales\n",
    "\n",
    "Los condicionales son estructuras que permiten elegir entre la ejecución de una acción u otra. En Python pueden ser: \n",
    "* if\n",
    "* elif\n",
    "* else"
   ]
  },
  {
   "cell_type": "markdown",
   "id": "317ba8c0-b8f9-4db1-a7a2-1e4be4b8edca",
   "metadata": {},
   "source": [
    "### Condicional if\n",
    "<center>\n",
    "    if condicion: <br>\n",
    "--expresiones \n",
    "</center>n"
   ]
  },
  {
   "cell_type": "code",
   "execution_count": 17,
   "id": "d409004e-db0f-4489-8a76-e40efafdd02b",
   "metadata": {},
   "outputs": [
    {
     "name": "stdout",
     "output_type": "stream",
     "text": [
      "Cosechar\n"
     ]
    }
   ],
   "source": [
    "Tamano = 150\n",
    "\n",
    "if Tamano >= 105:\n",
    "    print(\"Cosechar\")"
   ]
  },
  {
   "cell_type": "markdown",
   "id": "a91cb52f-87fd-4eb5-9b68-aa3d61a86b6c",
   "metadata": {},
   "source": [
    "### Condicional if, else\n",
    "<center>\n",
    "if condicion: <br>\n",
    "--expresiones <br>\n",
    "else:<br>\n",
    "--expresiones\n",
    "\n",
    "</center>"
   ]
  },
  {
   "cell_type": "code",
   "execution_count": 18,
   "id": "92a1c4b7-782a-4c67-aa56-0a1ad9c76037",
   "metadata": {},
   "outputs": [
    {
     "name": "stdout",
     "output_type": "stream",
     "text": [
      "No cosechar\n"
     ]
    }
   ],
   "source": [
    "Tamano = 15\n",
    "\n",
    "if Tamano >= 105:\n",
    "    print(\"Cosechar\")\n",
    "else:\n",
    "    print(\"No cosechar\")"
   ]
  },
  {
   "cell_type": "markdown",
   "id": "ed599ed1-4b2d-4a6d-9c70-ffed58093a62",
   "metadata": {},
   "source": [
    "### Condicional if, elif, else\n",
    "\n",
    "<center>\n",
    "if condicion: <br>\n",
    "expresiones <br>\n",
    "elif condicion:<br>\n",
    "--expresiones <br>\n",
    "else: <br>\n",
    "--expresiones\n",
    "\n",
    "</center>"
   ]
  },
  {
   "cell_type": "code",
   "execution_count": 24,
   "id": "2d7d6a71-8203-4315-8da8-a8107106e02f",
   "metadata": {},
   "outputs": [
    {
     "name": "stdout",
     "output_type": "stream",
     "text": [
      "Calidad regular\n"
     ]
    }
   ],
   "source": [
    "Radio_tomate = 5    # Calidad en los tomates\n",
    "\n",
    "if Radio_tomate >= 10:\n",
    "    print(\"Calidad premium\")\n",
    "elif Radio_tomate >= 5:\n",
    "    print(\"Calidad regular\")\n",
    "else:\n",
    "    print(\"Calidad mala\")"
   ]
  },
  {
   "cell_type": "markdown",
   "id": "ae7bef1d-b1c9-475a-9741-8736a3a17f9d",
   "metadata": {},
   "source": [
    "### Forma corta de utilizar un if, else para definir una variable"
   ]
  },
  {
   "cell_type": "code",
   "execution_count": 27,
   "id": "6d8ed56f-36bb-464f-b216-adac07187290",
   "metadata": {},
   "outputs": [
    {
     "data": {
      "text/plain": [
       "'Mala'"
      ]
     },
     "execution_count": 27,
     "metadata": {},
     "output_type": "execute_result"
    }
   ],
   "source": [
    "tamano = 8\n",
    "\n",
    "Calidad = \"Buena\" if tamano >= 15 else \"Mala\"\n",
    "\n",
    "Calidad"
   ]
  },
  {
   "cell_type": "markdown",
   "id": "b397f339-3a15-4f8d-9ce4-aa575c855e2a",
   "metadata": {},
   "source": [
    "## <font color = darkblue> Bucles\n",
    "\n",
    "Los bucles son importantes en Python o en cualquier otro lenguaje de programación, ya que te ayudan a ejecutar un bloque de código repetidamente. A menudo te encontrarás con situaciones en las que necesitarás utilizar un fragmento de código una y otra vez, pero no querrás escribir la misma línea de código varias veces."
   ]
  },
  {
   "cell_type": "markdown",
   "id": "a6cbae18-2c49-4f06-b537-ee75f5741a0b",
   "metadata": {},
   "source": [
    "### Ciclo for\n",
    "\n",
    "Un bucle for en Python es una estructura de programación que permite ejecutar repetidamente un bloque de código. Se utiliza para procesar los elementos de una colección de datos, como listas, tuplas, diccionarios o cadenas de texto, de acuerdo a un esquema específico.\n",
    "\n",
    "<center><img src = \"for_loop.png\" width = \"400\"> </center>\n",
    "\n",
    "<center>\n",
    "for element in iterable:<br>\n",
    "Instrucciones\n",
    "\n",
    "</center>"
   ]
  },
  {
   "cell_type": "code",
   "execution_count": 28,
   "id": "8f934547-195d-48a0-8ee3-5b24aff2f8e9",
   "metadata": {},
   "outputs": [
    {
     "name": "stdout",
     "output_type": "stream",
     "text": [
      "1\n",
      "2\n",
      "3\n",
      "4\n",
      "5\n",
      "6\n",
      "7\n",
      "8\n",
      "9\n"
     ]
    }
   ],
   "source": [
    "# Ciclo for con la palabra range\n",
    "for i in range(1,10,1):\n",
    "    print(i)"
   ]
  },
  {
   "cell_type": "code",
   "execution_count": 33,
   "id": "4da59526-1d9d-44fd-8518-cbf7260dbe5e",
   "metadata": {},
   "outputs": [
    {
     "name": "stdout",
     "output_type": "stream",
     "text": [
      "1\n",
      "3\n",
      "5\n",
      "7\n",
      "9\n"
     ]
    }
   ],
   "source": [
    "for i in range(1,10,2):\n",
    "    print(i)"
   ]
  },
  {
   "cell_type": "code",
   "execution_count": 30,
   "id": "36f337d5-a3f7-48e7-89cd-990cc562a9e9",
   "metadata": {},
   "outputs": [
    {
     "name": "stdout",
     "output_type": "stream",
     "text": [
      "1\n",
      "2\n",
      "3\n",
      "4\n",
      "5\n",
      "6\n",
      "7\n",
      "8\n",
      "9\n"
     ]
    }
   ],
   "source": [
    "for i in range(1,10):\n",
    "    print(i)"
   ]
  },
  {
   "cell_type": "code",
   "execution_count": 31,
   "id": "99f40ac6-074e-4dfd-84f9-3e533ebb0bdc",
   "metadata": {},
   "outputs": [
    {
     "name": "stdout",
     "output_type": "stream",
     "text": [
      "0\n",
      "1\n",
      "2\n",
      "3\n",
      "4\n",
      "5\n",
      "6\n",
      "7\n",
      "8\n",
      "9\n"
     ]
    }
   ],
   "source": [
    "for i in range(10):\n",
    "    print(i)"
   ]
  },
  {
   "cell_type": "markdown",
   "id": "b6e249ee-86e1-4554-a8d8-f775ccb48296",
   "metadata": {},
   "source": [
    "### Ciclo for con una decision"
   ]
  },
  {
   "cell_type": "code",
   "execution_count": 35,
   "id": "ef82eb3c-b658-4372-9332-c51fed355081",
   "metadata": {},
   "outputs": [
    {
     "name": "stdout",
     "output_type": "stream",
     "text": [
      "2\n",
      "4\n",
      "6\n",
      "8\n",
      "10\n",
      "12\n",
      "14\n",
      "16\n",
      "18\n",
      "20\n",
      "22\n",
      "24\n",
      "26\n",
      "28\n"
     ]
    }
   ],
   "source": [
    "# Multiplos de 2\n",
    "for sec in range(1,30):\n",
    "    if sec % 2 == 0:\n",
    "        print(sec)\n"
   ]
  },
  {
   "cell_type": "code",
   "execution_count": 36,
   "id": "5cf6a815-968d-4820-b9f5-c52327759397",
   "metadata": {},
   "outputs": [
    {
     "name": "stdout",
     "output_type": "stream",
     "text": [
      "Es número es múltiplo de tres: 3\n",
      "Es número es múltiplo de tres: 6\n",
      "Es número es múltiplo de tres: 9\n",
      "Es número es múltiplo de tres: 12\n",
      "Es número es múltiplo de tres: 15\n",
      "Es número es múltiplo de tres: 18\n",
      "Es número es múltiplo de tres: 21\n",
      "Es número es múltiplo de tres: 24\n",
      "Es número es múltiplo de tres: 27\n",
      "Es número es múltiplo de tres: 30\n",
      "Es número es múltiplo de tres: 33\n",
      "Es número es múltiplo de tres: 36\n",
      "Es número es múltiplo de tres: 39\n",
      "Es número es múltiplo de tres: 42\n",
      "Es número es múltiplo de tres: 45\n",
      "Es número es múltiplo de tres: 48\n",
      "Es número es múltiplo de tres: 51\n",
      "Es número es múltiplo de tres: 54\n",
      "Es número es múltiplo de tres: 57\n",
      "Es número es múltiplo de tres: 60\n",
      "Es número es múltiplo de tres: 63\n",
      "Es número es múltiplo de tres: 66\n",
      "Es número es múltiplo de tres: 69\n",
      "Es número es múltiplo de tres: 72\n",
      "Es número es múltiplo de tres: 75\n",
      "Es número es múltiplo de tres: 78\n",
      "Es número es múltiplo de tres: 81\n",
      "Es número es múltiplo de tres: 84\n",
      "Es número es múltiplo de tres: 87\n",
      "Es número es múltiplo de tres: 90\n",
      "Es número es múltiplo de tres: 93\n",
      "Es número es múltiplo de tres: 96\n",
      "Es número es múltiplo de tres: 99\n"
     ]
    }
   ],
   "source": [
    "# Multiplos de 3\n",
    "for tres in range(1,100):\n",
    "    if tres % 3 == 0:\n",
    "        print(f'Es número es múltiplo de tres: {tres}')"
   ]
  },
  {
   "cell_type": "markdown",
   "id": "1f381dd9-6b38-49c7-a8e9-230700b01932",
   "metadata": {},
   "source": [
    "### Break, continue y pass\n",
    "\n",
    "Usar bucles for y bucles while en Python le permite automatizar y repetir tareas de manera eficiente.\n",
    "Sin embargo, a veces, es posible que un factor externo influya en la forma en que se ejecuta su programa. Cuando esto sucede, es posible que prefiera que su programa cierre un bucle por completo, omita parte de un bucle antes de continuar o ignore ese factor externo. Puede hacer estas acciones con las instrucciones break, continue y pass."
   ]
  },
  {
   "cell_type": "markdown",
   "id": "0b0de7d4-a61f-4535-bc88-a14ea75ee02b",
   "metadata": {},
   "source": [
    "#### Instrucciones break\n",
    "\n",
    "En Python, la instrucción break le proporciona la oportunidad de cerrar un bucle cuando se activa una condición externa. Debe poner la instrucción break dentro del bloque de código bajo la instrucción de su bucle, generalmente después de una instrucción if condicional."
   ]
  },
  {
   "cell_type": "code",
   "execution_count": 41,
   "id": "7a1b8053-d82e-419a-a1cb-73a41e5c2c75",
   "metadata": {},
   "outputs": [
    {
     "name": "stdout",
     "output_type": "stream",
     "text": [
      "El número es: 0\n",
      "El número es: 1\n",
      "El número es: 2\n",
      "El número es: 3\n",
      "El número es: 4\n",
      "Fuera del bucle\n"
     ]
    }
   ],
   "source": [
    "for number in range(10):\n",
    "    if number == 5:\n",
    "        break    # break here\n",
    "\n",
    "    print('El número es: ' + str(number))\n",
    "\n",
    "print('Fuera del bucle')"
   ]
  },
  {
   "cell_type": "markdown",
   "id": "4dd713cb-ed11-4889-a19d-1e8fabcc214f",
   "metadata": {},
   "source": [
    "#### Instrucciones continue\n",
    "La instrucción continue da la opción de omitir la parte de un bucle en la que se activa una condición externa, pero continuar para completar el resto del bucle. Es decir, la iteración actual del bucle se interrumpirá, pero el programa volverá a la parte superior del bucle.\r\n",
    "\r\n",
    "La instrucción continue se encuentra dentro del bloque de código abajo de la instrucción del bucle, generalmente después de una instrucción if condicional."
   ]
  },
  {
   "cell_type": "code",
   "execution_count": 42,
   "id": "410dcc73-169f-4d27-af26-18a93e053f69",
   "metadata": {},
   "outputs": [
    {
     "name": "stdout",
     "output_type": "stream",
     "text": [
      "El número es: 0\n",
      "El número es: 1\n",
      "El número es: 2\n",
      "El número es: 3\n",
      "El número es: 4\n",
      "El número es: 6\n",
      "El número es: 7\n",
      "El número es: 8\n",
      "El número es: 9\n",
      "Fuera del bucle\n"
     ]
    }
   ],
   "source": [
    "for number in range(10):\n",
    "    if number == 5:\n",
    "        continue    # continue here\n",
    "\n",
    "    print('El número es: ' + str(number))\n",
    "\n",
    "print('Fuera del bucle')"
   ]
  },
  {
   "cell_type": "markdown",
   "id": "f49ca802-6f81-4db4-a132-81edcdf792be",
   "metadata": {},
   "source": [
    "#### Instrucciones pass\n",
    "\n",
    "Cuando se activa una condición externa, la instrucción pass permite manejar la condición sin que el bucle se vea afectado de ninguna manera; todo el código continuará leyéndose a menos que se produzca la instrucción break u otra instrucción.\r\n",
    "\r\n",
    "Igual que con las demás instrucciones, la instrucción pass se encuentra dentro del bloque de código abajo de la instrucción del bucle, normalmente después de una instrucción if condicional."
   ]
  },
  {
   "cell_type": "code",
   "execution_count": 43,
   "id": "db2f3663-48d4-46bf-aeeb-605b58758ae6",
   "metadata": {},
   "outputs": [
    {
     "name": "stdout",
     "output_type": "stream",
     "text": [
      "El número es: 0\n",
      "El número es: 1\n",
      "El número es: 2\n",
      "El número es: 3\n",
      "El número es: 4\n",
      "El número es: 5\n",
      "El número es: 6\n",
      "El número es: 7\n",
      "El número es: 8\n",
      "El número es: 9\n",
      "Fuera del bucle\n"
     ]
    }
   ],
   "source": [
    "for number in range(10):\n",
    "    if number == 5:\n",
    "        pass    # pass here\n",
    "\n",
    "    print('El número es: ' + str(number))\n",
    "\n",
    "print('Fuera del bucle')"
   ]
  },
  {
   "cell_type": "markdown",
   "id": "17719416-4d84-4ffb-a769-b0870d4e4d46",
   "metadata": {},
   "source": [
    "### Ciclo while\n",
    "\n",
    "El ciclo while en Python permite ejecutar un bloque de código repetidamente mientras se cumpla una condición, la cual se evalúa en cada iteración del ciclo.\n",
    "\n",
    "<center><img src = \"while_loop.png\" width = \"400\"> </center>\n",
    "\n",
    "<center>\n",
    "while condicion:<br>\n",
    "Instrucciones\n",
    "\n",
    "</center>"
   ]
  },
  {
   "cell_type": "code",
   "execution_count": 44,
   "id": "af024a62-778b-420a-8641-4bc07cd330e2",
   "metadata": {},
   "outputs": [
    {
     "name": "stdout",
     "output_type": "stream",
     "text": [
      "0\n",
      "1\n",
      "2\n",
      "3\n",
      "4\n",
      "5\n",
      "6\n",
      "7\n",
      "8\n",
      "9\n"
     ]
    }
   ],
   "source": [
    "contador = 0\n",
    "\n",
    "while contador < 10:\n",
    "    print(contador)\n",
    "    contador += 1"
   ]
  },
  {
   "cell_type": "code",
   "execution_count": 45,
   "id": "fc864436-59d2-4607-a2c4-ec977c3c7114",
   "metadata": {},
   "outputs": [
    {
     "name": "stdout",
     "output_type": "stream",
     "text": [
      "15\n",
      "14\n",
      "13\n",
      "12\n",
      "11\n",
      "10\n",
      "9\n",
      "8\n",
      "7\n",
      "6\n"
     ]
    }
   ],
   "source": [
    "contador = 15\n",
    "\n",
    "while contador > 5:\n",
    "    print(contador)\n",
    "    contador -= 1"
   ]
  },
  {
   "cell_type": "markdown",
   "id": "c368b041-5cf4-4667-9748-25ecfccac458",
   "metadata": {},
   "source": [
    "## <font color = darkblue> Funciones\n",
    "\n",
    "Las funciones son una parte esencial del lenguaje de programación Python: es posible que ya hayas encontrado y utilizado algunas de las muchas y fantásticas funciones integradas en el lenguaje Python o que vienen con su ecosistema de bibliotecas. Sin embargo, se deben escribir constantemente funciones propias para resolver algunos problemas que planteen los datos.\n",
    "\n",
    "<center>\n",
    "    def nombre_de_funcion(argumentos): <br>\n",
    "        Instrucciones\n",
    "</center>"
   ]
  },
  {
   "cell_type": "markdown",
   "id": "4f699880-1dc8-40a2-b24f-fc1111f25a11",
   "metadata": {},
   "source": [
    "### Función para medir el área de un terreno rectangular"
   ]
  },
  {
   "cell_type": "code",
   "execution_count": 48,
   "id": "c9b7187d-dcf1-4a96-bad8-cb58315f873b",
   "metadata": {},
   "outputs": [],
   "source": [
    "def area_rectangulo(base,altura):\n",
    "    area = base * altura\n",
    "    print(f'El área del terreno es: {area}')\n",
    "    "
   ]
  },
  {
   "cell_type": "code",
   "execution_count": 49,
   "id": "3ec6c479-819f-4c4b-a2eb-cd6a751adf08",
   "metadata": {},
   "outputs": [
    {
     "name": "stdout",
     "output_type": "stream",
     "text": [
      "El área del terreno es: 1500\n"
     ]
    }
   ],
   "source": [
    "base = 15\n",
    "altura = 100\n",
    "\n",
    "Terreno = area_rectangulo(base, altura)\n",
    "Terreno"
   ]
  },
  {
   "cell_type": "markdown",
   "id": "612f1997-febd-4b1e-9eb7-2239785f352e",
   "metadata": {},
   "source": [
    "### Función para calcular el agua necesaria en una planta"
   ]
  },
  {
   "cell_type": "code",
   "execution_count": 53,
   "id": "17a26bc2-23f7-453f-b53d-ae621f00b424",
   "metadata": {},
   "outputs": [],
   "source": [
    "def calcular_agua_necesaria(humedad_actual, humedad_objetivo, area_zona, eficiencia_riego=0.9):\n",
    "    \"\"\"\n",
    "    Calcula la cantidad de agua necesaria para alcanzar el nivel de humedad objetivo.\n",
    "    \n",
    "    Parámetros:\n",
    "    - humedad_actual (float): Porcentaje actual de humedad del suelo (0-100).\n",
    "    - humedad_objetivo (float): Porcentaje objetivo de humedad del suelo (0-100).\n",
    "    - area_zona (float): Área de la zona de riego en metros cuadrados.\n",
    "    - eficiencia_riego (float): Eficiencia del sistema de riego (valor entre 0 y 1).\n",
    "    \n",
    "    Retorna:\n",
    "    - cantidad_agua (float): Litros de agua necesarios.\n",
    "    \"\"\"\n",
    "    if humedad_actual >= humedad_objetivo:\n",
    "        return 0  # No se necesita riego adicional\n",
    "    \n",
    "    # Constante: 1 metro cúbico de agua equivale a 1,000 litros\n",
    "    agua_porcentual = (humedad_objetivo - humedad_actual) / 100\n",
    "    volumen_agua_m3 = agua_porcentual * area_zona * 0.1  # 0.1 m equivale a 10 cm de profundidad del suelo\n",
    "    cantidad_agua = volumen_agua_m3 * 1000 / eficiencia_riego  # Convertir a litros\n",
    "    \n",
    "    return cantidad_agua"
   ]
  },
  {
   "cell_type": "code",
   "execution_count": 55,
   "id": "4223d907-3e4c-4a28-950d-d377236d9860",
   "metadata": {},
   "outputs": [
    {
     "name": "stdout",
     "output_type": "stream",
     "text": [
      "Se necesitan 1666.67 litros de agua para alcanzar el objetivo de humedad.\n"
     ]
    }
   ],
   "source": [
    "humedad_actual = 45  # Humedad actual en porcentaje\n",
    "humedad_objetivo = 60  # Humedad deseada en porcentaje\n",
    "area_zona = 100  # Área de riego en metros cuadrados\n",
    "\n",
    "agua_necesaria = calcular_agua_necesaria(humedad_actual, humedad_objetivo, area_zona)\n",
    "print(f\"Se necesitan {agua_necesaria:.2f} litros de agua para alcanzar el objetivo de humedad.\")"
   ]
  },
  {
   "cell_type": "markdown",
   "id": "01e4bf2a-7f9a-44c1-8712-30a6daf07a0c",
   "metadata": {},
   "source": [
    "### Funciones con parametros definidos"
   ]
  },
  {
   "cell_type": "code",
   "execution_count": 64,
   "id": "aea42406-1460-4e6b-97ee-a80b34030e27",
   "metadata": {},
   "outputs": [],
   "source": [
    "def area_rectangulo(base,altura=5):\n",
    "    area = base * altura\n",
    "    print(f'El área del terreno es: {area} metros cuadrados')\n"
   ]
  },
  {
   "cell_type": "code",
   "execution_count": 65,
   "id": "8d76391b-c29c-4667-b241-1dd194cd6b40",
   "metadata": {},
   "outputs": [
    {
     "name": "stdout",
     "output_type": "stream",
     "text": [
      "El área del terreno es: 250 metros cuadrados\n"
     ]
    }
   ],
   "source": [
    "base = 50\n",
    "\n",
    "Terreno = area_rectangulo(base)\n",
    "Terreno"
   ]
  },
  {
   "cell_type": "code",
   "execution_count": 66,
   "id": "4763c56e-3c6f-4990-989d-5c8f09a4b38b",
   "metadata": {},
   "outputs": [
    {
     "name": "stdout",
     "output_type": "stream",
     "text": [
      "El costo del fertilizante es: $10000.00\n",
      "El costo personalizado del fertilizante es: $15000.00\n"
     ]
    }
   ],
   "source": [
    "def calcular_costo_fertilizante(area, costo_por_kg = 20, dosis_por_m2 = 0.5):\n",
    "    \"\"\"\n",
    "    Calcula el costo total del fertilizante necesario para un área agrícola.\n",
    "    \n",
    "    Parámetros:\n",
    "    - area (float): Área total en metros cuadrados.\n",
    "    - costo_por_kg (float): Costo del fertilizante por kilogramo (valor predeterminado: 20).\n",
    "    - dosis_por_m2 (float): Cantidad de fertilizante necesaria por metro cuadrado en kg (valor predeterminado: 0.5).\n",
    "    \n",
    "    Retorna:\n",
    "    - costo_total (float): Costo total del fertilizante.\n",
    "    \"\"\"\n",
    "    cantidad_total = area * dosis_por_m2  # Cantidad total de fertilizante en kg\n",
    "    costo_total = cantidad_total * costo_por_kg  # Costo total en función del costo por kg\n",
    "    return costo_total\n"
   ]
  },
  {
   "cell_type": "code",
   "execution_count": 67,
   "id": "337ef93d-4621-4a76-842b-a9d2b8a1f735",
   "metadata": {},
   "outputs": [
    {
     "name": "stdout",
     "output_type": "stream",
     "text": [
      "El costo del fertilizante es: $10000.00\n",
      "El costo personalizado del fertilizante es: $15000.00\n"
     ]
    }
   ],
   "source": [
    "# Ejemplo de uso con parámetros predeterminados\n",
    "area_agricola = 1000  # Área en metros cuadrados\n",
    "costo = calcular_costo_fertilizante(area_agricola)\n",
    "print(f\"El costo del fertilizante es: ${costo:.2f}\")\n",
    "\n",
    "# Ejemplo de uso cambiando los parámetros predeterminados\n",
    "costo_personalizado = calcular_costo_fertilizante(area_agricola, costo_por_kg=25, dosis_por_m2=0.6)\n",
    "print(f\"El costo personalizado del fertilizante es: ${costo_personalizado:.2f}\")"
   ]
  },
  {
   "cell_type": "markdown",
   "id": "123f2298-06e2-4edb-a1f8-b58162ed2104",
   "metadata": {},
   "source": [
    "### Función lambda\n",
    "\n",
    "Las funciones lambda son funciones en una sola linea. Las expresiones lambda se usan idealmente cuando necesitamos hacer algo simple y estamos más interesados en hacer el trabajo rápidamente en lugar de nombrar formalmente la función. La sintaxis de una función lambda se realiza de la siguiente manera:\n",
    "\n",
    "<center>lambda args: expresion </center>"
   ]
  },
  {
   "cell_type": "code",
   "execution_count": 1,
   "id": "f3e5da99-e60b-47a2-96d4-6552118ac603",
   "metadata": {},
   "outputs": [
    {
     "data": {
      "text/plain": [
       "9"
      ]
     },
     "execution_count": 1,
     "metadata": {},
     "output_type": "execute_result"
    }
   ],
   "source": [
    "# Funcion lambda para calcula el cuadrado de un numero\n",
    "square = lambda x: x ** 2\n",
    "square(3)"
   ]
  },
  {
   "cell_type": "markdown",
   "id": "652e0a04-0610-42db-a29d-af93fa32f517",
   "metadata": {},
   "source": [
    "### Ciclo for compacto"
   ]
  },
  {
   "cell_type": "code",
   "execution_count": 40,
   "id": "c2ca009d-990f-42cb-8bb1-fef8c0bfb01e",
   "metadata": {},
   "outputs": [
    {
     "data": {
      "text/plain": [
       "[2,\n",
       " 4,\n",
       " 6,\n",
       " 8,\n",
       " 10,\n",
       " 12,\n",
       " 14,\n",
       " 16,\n",
       " 18,\n",
       " 20,\n",
       " 22,\n",
       " 24,\n",
       " 26,\n",
       " 28,\n",
       " 30,\n",
       " 32,\n",
       " 34,\n",
       " 36,\n",
       " 38,\n",
       " 40,\n",
       " 42,\n",
       " 44,\n",
       " 46,\n",
       " 48,\n",
       " 50,\n",
       " 52,\n",
       " 54,\n",
       " 56,\n",
       " 58,\n",
       " 60,\n",
       " 62,\n",
       " 64,\n",
       " 66,\n",
       " 68,\n",
       " 70,\n",
       " 72,\n",
       " 74,\n",
       " 76,\n",
       " 78,\n",
       " 80,\n",
       " 82,\n",
       " 84,\n",
       " 86,\n",
       " 88,\n",
       " 90,\n",
       " 92,\n",
       " 94,\n",
       " 96,\n",
       " 98]"
      ]
     },
     "execution_count": 40,
     "metadata": {},
     "output_type": "execute_result"
    }
   ],
   "source": [
    "numero = 1\n",
    "Multiplos_dos = [numero for numero in range(1,100) if numero % 2 == 0]\n",
    "Multiplos_dos"
   ]
  },
  {
   "cell_type": "markdown",
   "id": "f20d56d7-fa00-406f-b897-75e3e60f8bc3",
   "metadata": {},
   "source": [
    "### Ciclo for y funcion lambda"
   ]
  },
  {
   "cell_type": "code",
   "execution_count": null,
   "id": "b22e13dd-9edf-43f4-bba1-278382f34768",
   "metadata": {},
   "outputs": [],
   "source": [
    "# Filtrar numeros impares\n",
    "filtrado = [x for x in [1, 2, 3, 4, 5, 6, 7, 8, 9, 10] if x % 2 != 0]\n",
    "filtrado"
   ]
  },
  {
   "cell_type": "markdown",
   "id": "0fb85740-2671-473b-b156-c6fdbed5820d",
   "metadata": {},
   "source": [
    "## <font color = darkblue> Estructuras de datos básicas de Python\n",
    "\n",
    "Las estructuras de datos existen tanto en el mundo digital como en el físico. Un diccionario es un ejemplo físico de una estructura de datos en la que los datos comprenden definiciones de palabras organizadas por orden alfabético dentro de un libro. Esta organización permite una consulta específica: dada una palabra, se puede buscar su definición.\n"
   ]
  },
  {
   "cell_type": "markdown",
   "id": "a512c092-61f6-413e-9aac-44ba697c2e31",
   "metadata": {},
   "source": [
    "### Listas\n",
    "\n",
    "Las listas en Python son estructuras de datos que almacenan valores de forma ordenada y son mutables. Permiten guardar un número ilimitado de datos de cualquier tipo, como números, cadenas de texto, o incluso otras listas."
   ]
  },
  {
   "cell_type": "code",
   "execution_count": 6,
   "id": "c07ef97c-bbd1-489f-890b-290a2ffd2278",
   "metadata": {},
   "outputs": [
    {
     "data": {
      "text/plain": [
       "[1, 2, 3, 6, 4, 8]"
      ]
     },
     "execution_count": 6,
     "metadata": {},
     "output_type": "execute_result"
    }
   ],
   "source": [
    "numeros = [1,2,3,6,4,8]    # Lista numeros\n",
    "numeros"
   ]
  },
  {
   "cell_type": "code",
   "execution_count": 8,
   "id": "4f6c155a-d30d-4b9b-8fc9-f487369f897b",
   "metadata": {},
   "outputs": [
    {
     "data": {
      "text/plain": [
       "['Aguacate', 'Maiz', 'Jitomate']"
      ]
     },
     "execution_count": 8,
     "metadata": {},
     "output_type": "execute_result"
    }
   ],
   "source": [
    "Plantas = [\"Aguacate\", \"Maiz\", \"Jitomate\"]    # List \n",
    "Plantas"
   ]
  },
  {
   "cell_type": "code",
   "execution_count": 9,
   "id": "5c137661-cfae-4876-b685-000e4a1abaaa",
   "metadata": {},
   "outputs": [
    {
     "data": {
      "text/plain": [
       "[True, False, True]"
      ]
     },
     "execution_count": 9,
     "metadata": {},
     "output_type": "execute_result"
    }
   ],
   "source": [
    "Bool = [True, False, True]     # Lista booleana\n",
    "Bool"
   ]
  },
  {
   "cell_type": "code",
   "execution_count": 13,
   "id": "49681121-f5be-43db-8421-b3955e7140c4",
   "metadata": {},
   "outputs": [
    {
     "data": {
      "text/plain": [
       "[1, 2, True]"
      ]
     },
     "execution_count": 13,
     "metadata": {},
     "output_type": "execute_result"
    }
   ],
   "source": [
    "mixto = [1,2,True]    # Lista mixta\n",
    "mixto"
   ]
  },
  {
   "cell_type": "markdown",
   "id": "36bc63ac-c4c8-489c-af08-5424c4b0011d",
   "metadata": {},
   "source": [
    "#### Métodos utilizados en las listas:\n",
    "\n",
    "<center><img src = \"Metodos_listas.png\" width = \"600\"> </center>\n"
   ]
  },
  {
   "cell_type": "code",
   "execution_count": 20,
   "id": "28598d64-72dd-485e-9d5c-67e2b44a37d4",
   "metadata": {},
   "outputs": [
    {
     "name": "stdout",
     "output_type": "stream",
     "text": [
      "Esta es la lista original: [1, 2, 3, 4, 5]\n",
      "Esta es la lista utilizando append: [1, 2, 3, 4, 5, 6]\n"
     ]
    }
   ],
   "source": [
    "# Agregar un elemento al final de la lista\n",
    "lista = [1,2,3,4,5]\n",
    "print(f'Esta es la lista original: {lista}')\n",
    "lista.append(6)  # Agregar el numero 6 a la lista\n",
    "print(f'Esta es la lista utilizando append: {lista}')"
   ]
  },
  {
   "cell_type": "code",
   "execution_count": 21,
   "id": "8b5fa120-8f7d-4a97-96fe-f1401011f203",
   "metadata": {},
   "outputs": [
    {
     "name": "stdout",
     "output_type": "stream",
     "text": [
      "Esta es la lista con el metodo pop: [1, 2, 3, 4, 5]\n"
     ]
    }
   ],
   "source": [
    "# Eliminar el ultimo elemento de la lista\n",
    "lista.pop()\n",
    "print(f'Esta es la lista con el metodo pop: {lista}')"
   ]
  },
  {
   "cell_type": "code",
   "execution_count": 22,
   "id": "8ced10f6-5cad-4ad2-b458-7d351b1b428d",
   "metadata": {},
   "outputs": [
    {
     "name": "stdout",
     "output_type": "stream",
     "text": [
      "Esta es la lista con el metodo extend: [1, 2, 3, 4, 5, 6, 7]\n"
     ]
    }
   ],
   "source": [
    "# Agregar los elementos de un iterable (como otra lista) al final de la lista actual.\n",
    "lista.extend([6,7])\n",
    "print(f'Esta es la lista con el metodo extend: {lista}')"
   ]
  },
  {
   "cell_type": "code",
   "execution_count": 28,
   "id": "76eab455-56dd-46fb-9f42-2cfc402e9a16",
   "metadata": {},
   "outputs": [
    {
     "name": "stdout",
     "output_type": "stream",
     "text": [
      "Esta es la lista con el metodo insert: [1, 2, 3, 3.5, 4, 5, 6, 7]\n"
     ]
    }
   ],
   "source": [
    "# Insertar un elemento en una posicion especifica\n",
    "lista.insert(3,3.5)\n",
    "print(f'Esta es la lista con el metodo insert: {lista}')"
   ]
  },
  {
   "cell_type": "code",
   "execution_count": 29,
   "id": "c2d19974-bc91-4a67-9217-60a8e88a493c",
   "metadata": {},
   "outputs": [
    {
     "name": "stdout",
     "output_type": "stream",
     "text": [
      "Esta es la lista con el metodo remove: [1, 2, 3, 4, 5, 6, 7]\n"
     ]
    }
   ],
   "source": [
    "# Eliminar la primera aparicion de un elemento en una lista\n",
    "lista.remove(3.5)\n",
    "print(f'Esta es la lista con el metodo remove: {lista}')\n",
    "\n",
    "# Si el elemento no existe, otorga un error\n",
    "# lista.remove(15)"
   ]
  },
  {
   "cell_type": "code",
   "execution_count": 30,
   "id": "297a4d08-1485-4f7c-abf8-3d90e96cdf75",
   "metadata": {},
   "outputs": [
    {
     "name": "stdout",
     "output_type": "stream",
     "text": [
      "Esta es la lista con el metodo sort: [7, 6, 5, 4, 3, 2, 1]\n"
     ]
    }
   ],
   "source": [
    "# Ordenar los elementos de una lista de manera descendente\n",
    "lista.sort(reverse = True)\n",
    "print(f'Esta es la lista con el metodo sort: {lista}')"
   ]
  },
  {
   "cell_type": "code",
   "execution_count": 31,
   "id": "ce59038d-a5f8-49c7-8ea4-a88b46a91e94",
   "metadata": {},
   "outputs": [
    {
     "name": "stdout",
     "output_type": "stream",
     "text": [
      "Esta es la lista con el metodo sort: [1, 2, 3, 4, 5, 6, 7]\n"
     ]
    }
   ],
   "source": [
    "# Ordenar los elementos de una lista de manera ascendente\n",
    "lista.sort(reverse = False)\n",
    "print(f'Esta es la lista con el metodo sort: {lista}')"
   ]
  },
  {
   "cell_type": "code",
   "execution_count": 32,
   "id": "66abb21c-0612-4da6-81d9-2e4f87a7f8dd",
   "metadata": {},
   "outputs": [
    {
     "name": "stdout",
     "output_type": "stream",
     "text": [
      "Esta lista se ordena por numero de letras en los elementos: ['uva', 'pera', 'manzana']\n"
     ]
    }
   ],
   "source": [
    "# Ordenar por numero de palabras\n",
    "frutas = [\"manzana\",\"pera\",\"uva\"]\n",
    "frutas.sort(key = len)\n",
    "print(f'Esta lista se ordena por numero de letras en los elementos: {frutas}')"
   ]
  },
  {
   "cell_type": "code",
   "execution_count": 34,
   "id": "992a97f3-8c9e-466b-93ca-5700a4787f08",
   "metadata": {},
   "outputs": [
    {
     "name": "stdout",
     "output_type": "stream",
     "text": [
      "Lista de estados original: ['Michoacan', 'Jalisco', 'Nayarit', 'Colima']\n",
      "Lista de estados copia: ['Michoacan', 'Jalisco', 'Nayarit', 'Colima']\n"
     ]
    }
   ],
   "source": [
    "# Copiar una lista\n",
    "Estados = [\"Michoacan\", \"Jalisco\", \"Nayarit\", \"Colima\"]\n",
    "# Obtener una copia superficial de la lista\n",
    "Estados_copia = Estados.copy()\n",
    "print(f'Lista de estados original: {Estados}')\n",
    "print(f'Lista de estados copia: {Estados_copia}')"
   ]
  },
  {
   "cell_type": "code",
   "execution_count": 35,
   "id": "382cbbe0-dc56-4492-99e2-2986e0cc6fe6",
   "metadata": {},
   "outputs": [
    {
     "data": {
      "text/plain": [
       "4"
      ]
     },
     "execution_count": 35,
     "metadata": {},
     "output_type": "execute_result"
    }
   ],
   "source": [
    "# Funcion para ver la cantidad de elementos en una lista\n",
    "len(Estados)"
   ]
  },
  {
   "cell_type": "code",
   "execution_count": 37,
   "id": "1a7d2920-d127-469e-801f-79bc2bb8e880",
   "metadata": {},
   "outputs": [
    {
     "data": {
      "text/plain": [
       "3"
      ]
     },
     "execution_count": 37,
     "metadata": {},
     "output_type": "execute_result"
    }
   ],
   "source": [
    "# Contar un elemento especifico en las listas\n",
    "numeros = [5,5,5,6,8,7,9,1,4,15,15]\n",
    "numeros.count(5)    # Contar el numero cinco"
   ]
  },
  {
   "cell_type": "markdown",
   "id": "0e50bb2b-2518-4ead-8961-cb58378bd997",
   "metadata": {},
   "source": [
    "### Tuplas\n",
    "\n",
    "En Python, una tupla es una colección de elementos que se ordenan y no se pueden modificar. Son similares a las listas, pero inmutables. Algunos de sus métodos se muestran a continuación:\n",
    "\n",
    "<center><img src = \"Metodos_tuplas.png\" width = \"600\"> </center>"
   ]
  },
  {
   "cell_type": "code",
   "execution_count": 41,
   "id": "ebd25c3a-9410-45d6-954c-a008815fac20",
   "metadata": {},
   "outputs": [
    {
     "data": {
      "text/plain": [
       "(1, 2, 3, 4, 2, 1, 2)"
      ]
     },
     "execution_count": 41,
     "metadata": {},
     "output_type": "execute_result"
    }
   ],
   "source": [
    "# Definimos una tupla\n",
    "tupla = (1,2,3,4,2,1,2)\n",
    "tupla"
   ]
  },
  {
   "cell_type": "code",
   "execution_count": 42,
   "id": "c2565dff-31fa-4f1f-9c05-7d76cb58d75d",
   "metadata": {},
   "outputs": [
    {
     "data": {
      "text/plain": [
       "3"
      ]
     },
     "execution_count": 42,
     "metadata": {},
     "output_type": "execute_result"
    }
   ],
   "source": [
    "# Contar los elementos especificos \n",
    "tupla.count(2)"
   ]
  },
  {
   "cell_type": "code",
   "execution_count": 43,
   "id": "4fdc1d76-23f6-42c5-ba80-f732c4d3fcc4",
   "metadata": {},
   "outputs": [
    {
     "data": {
      "text/plain": [
       "2"
      ]
     },
     "execution_count": 43,
     "metadata": {},
     "output_type": "execute_result"
    }
   ],
   "source": [
    "# Identificar donde se encuentra el numero 3\n",
    "tupla.index(3)"
   ]
  },
  {
   "cell_type": "markdown",
   "id": "29608db5-d1f5-4ba0-b95b-be984c4a3e71",
   "metadata": {},
   "source": [
    "### Diccionarios\n",
    "\n",
    "Los diccionarios en Python son una estructura de datos que permite almacenar su contenido en forma de llave y valor.\n",
    "\n",
    "<center><img src = \"Metodos_diccionarios.png\" width = \"600\"> </center>"
   ]
  },
  {
   "cell_type": "markdown",
   "id": "d8ae8712-e1bc-4022-b6fe-aa7b9d1dc936",
   "metadata": {},
   "source": [
    "#### Metodos de acceso\n",
    "\n"
   ]
  },
  {
   "cell_type": "code",
   "execution_count": 60,
   "id": "fd441647-89ae-4822-9dbc-a91435bb0c31",
   "metadata": {},
   "outputs": [
    {
     "name": "stdout",
     "output_type": "stream",
     "text": [
      "1\n",
      "dict_keys(['a', 'b', 'c'])\n",
      "dict_values([1, 2, 3])\n",
      "dict_items([('a', 1), ('b', 2), ('c', 3)])\n"
     ]
    }
   ],
   "source": [
    "diccionario = {\"a\": 1, \"b\": 2, \"c\": 3}\n",
    "\n",
    "# Métodos de acceso\n",
    "print(diccionario.get(\"a\"))         # devolver el valor de una clave\n",
    "print(diccionario.keys())           # Devolver las claves de un diccionario\n",
    "print(diccionario.values())         # Devolver los valores de un diccionario\n",
    "print(diccionario.items())          # Devolver los pares clave - valor en forma de tupla"
   ]
  },
  {
   "cell_type": "markdown",
   "id": "866bd7e5-2c1e-4995-bfe2-691ec182e96b",
   "metadata": {},
   "source": [
    "#### Metodos de manipulacion"
   ]
  },
  {
   "cell_type": "code",
   "execution_count": 61,
   "id": "c8f424bd-1147-413a-881c-7c68bdf0bd31",
   "metadata": {},
   "outputs": [
    {
     "data": {
      "text/plain": [
       "{'a': 1, 'b': 2, 'c': 3, 'd': 4}"
      ]
     },
     "execution_count": 61,
     "metadata": {},
     "output_type": "execute_result"
    }
   ],
   "source": [
    "# Métodos de manipulación\n",
    "diccionario.update({\"d\": 4})      # Actualizar el diccionario con otro diccionario\n",
    "diccionario"
   ]
  },
  {
   "cell_type": "code",
   "execution_count": 62,
   "id": "09b1df95-d288-438a-b126-3d18d2dda64f",
   "metadata": {},
   "outputs": [
    {
     "data": {
      "text/plain": [
       "{'a': 1, 'b': 2, 'c': 3}"
      ]
     },
     "execution_count": 62,
     "metadata": {},
     "output_type": "execute_result"
    }
   ],
   "source": [
    "diccionario.popitem()             # Eliminar el ultimo par clave - valor insertado\n",
    "diccionario"
   ]
  },
  {
   "cell_type": "code",
   "execution_count": 63,
   "id": "4ccf3d19-a705-4b8e-93b4-c4816005dc71",
   "metadata": {},
   "outputs": [
    {
     "data": {
      "text/plain": [
       "{'b': 2, 'c': 3}"
      ]
     },
     "execution_count": 63,
     "metadata": {},
     "output_type": "execute_result"
    }
   ],
   "source": [
    "diccionario.pop('a')\n",
    "diccionario"
   ]
  },
  {
   "cell_type": "markdown",
   "id": "f2458479-a3d1-4c04-b8f3-9ddd4520d1bd",
   "metadata": {},
   "source": [
    "### Set\n",
    "\n",
    "Los set en Python son un tipo que permite almacenar varios elementos y acceder a ellos de una forma muy similar a las listas pero con ciertas diferencias: Los elementos de un set son único, lo que significa que no puede haber elementos duplicados.\n",
    "\n",
    "<center><img src = \"Metodos_set.png\" width = \"600\"> </center>"
   ]
  },
  {
   "cell_type": "code",
   "execution_count": 65,
   "id": "6b95edd3-a940-4fb2-a2ea-97753a934f16",
   "metadata": {},
   "outputs": [
    {
     "name": "stdout",
     "output_type": "stream",
     "text": [
      "{1, 2, 3, 6}\n",
      "{1, 2, 6}\n"
     ]
    }
   ],
   "source": [
    "set1 = {1, 2, 3}\n",
    "set2 = {3, 4, 5}\n",
    "\n",
    "# Métodos de manipulación\n",
    "set1.add(6)\n",
    "print(set1)                      # {1, 2, 3, 6}\n",
    "set1.remove(3)\n",
    "print(set1)                      # {1, 2, 6}"
   ]
  },
  {
   "cell_type": "code",
   "execution_count": null,
   "id": "cd728cde-b04d-4666-8a56-4ffd31f08876",
   "metadata": {},
   "outputs": [],
   "source": [
    "# Operaciones matemáticas\n",
    "union = set1.union(set2)\n",
    "print(union)                     # {1, 2, 4, 5, 6}\n",
    "\n",
    "interseccion = set1.intersection(set2)\n",
    "print(interseccion)              # { }\n",
    "\n",
    "diferencia = set1.difference(set2)\n",
    "print(diferencia)                # {1, 2, 6}"
   ]
  },
  {
   "cell_type": "code",
   "execution_count": null,
   "id": "54ebba08-1113-4737-8352-d24b63e2d141",
   "metadata": {},
   "outputs": [],
   "source": []
  },
  {
   "cell_type": "code",
   "execution_count": null,
   "id": "e1397c27-1080-4897-8869-cf2d03be957b",
   "metadata": {},
   "outputs": [],
   "source": []
  },
  {
   "cell_type": "code",
   "execution_count": null,
   "id": "dfbda9c2-7065-4a5c-98ca-733e6c337591",
   "metadata": {},
   "outputs": [],
   "source": []
  }
 ],
 "metadata": {
  "kernelspec": {
   "display_name": "Python 3 (ipykernel)",
   "language": "python",
   "name": "python3"
  },
  "language_info": {
   "codemirror_mode": {
    "name": "ipython",
    "version": 3
   },
   "file_extension": ".py",
   "mimetype": "text/x-python",
   "name": "python",
   "nbconvert_exporter": "python",
   "pygments_lexer": "ipython3",
   "version": "3.11.7"
  }
 },
 "nbformat": 4,
 "nbformat_minor": 5
}
