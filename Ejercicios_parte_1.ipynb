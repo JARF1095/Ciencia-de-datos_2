{
 "cells": [
  {
   "cell_type": "markdown",
   "id": "e9e9d517-55ef-4e3a-8090-8f8a78519c2f",
   "metadata": {},
   "source": [
    "# Ejercicios parte 1\n"
   ]
  },
  {
   "cell_type": "markdown",
   "id": "b7299f6e-9955-4f5c-8ad4-e58aeb609a16",
   "metadata": {},
   "source": [
    "### Declara dos variables, una con el nombre de tu fruta favorita y otra con uno de los beneficios que se tiene para la salud humana al consumir tal fruta. Imprímelas en un formato como:"
   ]
  },
  {
   "cell_type": "code",
   "execution_count": 1,
   "id": "bb40c35e-0ef8-44ab-86e1-94287cecc8f3",
   "metadata": {},
   "outputs": [
    {
     "name": "stdout",
     "output_type": "stream",
     "text": [
      "Hola, me gusta la fruta manzana que tiene el beneficio antioxidante.\n"
     ]
    }
   ],
   "source": [
    "fruta = \"manzana\"\n",
    "beneficios = \"antioxidante\"\n",
    "\n",
    "print(f'Hola, me gusta la fruta {fruta} que tiene el beneficio {beneficios}.')"
   ]
  },
  {
   "cell_type": "markdown",
   "id": "d0598593-31ed-426f-bbf7-16c43125d43c",
   "metadata": {},
   "source": [
    "### Calcula el área de la sección transversal del tronco de una planta, que puede ser utilizado como característica para determinar el crecimiento de la misma. Usa una constante para el valor de 𝜋=3.1416."
   ]
  },
  {
   "cell_type": "code",
   "execution_count": 6,
   "id": "34a57d9a-175f-4655-a699-6d782415453f",
   "metadata": {},
   "outputs": [
    {
     "data": {
      "text/plain": [
       "28.2744"
      ]
     },
     "execution_count": 6,
     "metadata": {},
     "output_type": "execute_result"
    }
   ],
   "source": [
    "def area(radio, PI = 3.1416):\n",
    "    area = PI * radio ** 2\n",
    "    return area\n",
    "\n",
    "Area_tronco = area(3)\n",
    "Area_tronco"
   ]
  },
  {
   "cell_type": "markdown",
   "id": "5723adb1-03c1-4df2-977c-73be9d33af04",
   "metadata": {},
   "source": [
    "### Escribe un programa que reciba un número como cadena y conviértelo a entero para calcular su cubo."
   ]
  },
  {
   "cell_type": "code",
   "execution_count": 8,
   "id": "9b7f537e-213a-4edc-92f6-f1cea1589d26",
   "metadata": {},
   "outputs": [
    {
     "name": "stdin",
     "output_type": "stream",
     "text": [
      "Define un numero:  3\n"
     ]
    },
    {
     "name": "stdout",
     "output_type": "stream",
     "text": [
      "El cubo del numero es: 27\n"
     ]
    }
   ],
   "source": [
    "Numero = int(input(\"Define un numero: \"))\n",
    "\n",
    "cubo = lambda x: x**3\n",
    "print(f'El cubo del numero es: {cubo(Numero)}')"
   ]
  },
  {
   "cell_type": "markdown",
   "id": "f646954d-fa01-4bb9-83a6-6c56caf08f17",
   "metadata": {},
   "source": [
    "### De acuerdo con la NMX-FF-062-SCFI-2002, el tamaño de las fresas se determina con base a su diámetro ecuatorial de acuerdo a la tabla siguiente. Desarrolla código para clasificar esas fresas de acuerdo con su diámetro."
   ]
  },
  {
   "cell_type": "code",
   "execution_count": 10,
   "id": "253d684a-a7b1-4a66-8710-24619aab2077",
   "metadata": {},
   "outputs": [
    {
     "name": "stdin",
     "output_type": "stream",
     "text": [
      "Ingrese el diametro ecuatorial de la fresa:  7.5\n"
     ]
    },
    {
     "name": "stdout",
     "output_type": "stream",
     "text": [
      "Tamano A\n"
     ]
    }
   ],
   "source": [
    "Tamano = float(input('Ingrese el diametro ecuatorial de la fresa: '))\n",
    "\n",
    "if Tamano > 3.2:\n",
    "    print(\"Tamano A\")\n",
    "elif Tamano > 2.6:\n",
    "    print(\"Tamano B\")\n",
    "elif Tamano > 2:\n",
    "    print(\"Tamano C\")\n",
    "elif Tamano > 1.6:\n",
    "    print(\"Tamano D\")"
   ]
  },
  {
   "cell_type": "markdown",
   "id": "b3f54fc5-3e2f-4372-bb01-f56a48599e69",
   "metadata": {},
   "source": [
    "### Suma los primeros 1,000 números utilizando bucles."
   ]
  },
  {
   "cell_type": "code",
   "execution_count": 12,
   "id": "96238f00-41ae-44bb-b479-f662b2c64607",
   "metadata": {},
   "outputs": [
    {
     "name": "stdout",
     "output_type": "stream",
     "text": [
      "5050\n"
     ]
    }
   ],
   "source": [
    "suma = 0\n",
    "for i in range(1,101):\n",
    "    suma += i\n",
    "\n",
    "print(suma)"
   ]
  },
  {
   "cell_type": "markdown",
   "id": "c175b3c3-b719-433a-8c96-05830dfa8ad8",
   "metadata": {},
   "source": [
    "### Escribe un programa que reciba un número y genere su tabla de multiplicar hasta el 10."
   ]
  },
  {
   "cell_type": "code",
   "execution_count": 13,
   "id": "0b8f0751-c279-4178-8eb6-ea7c3ea5d497",
   "metadata": {},
   "outputs": [
    {
     "name": "stdin",
     "output_type": "stream",
     "text": [
      "Introduce un número:  2\n"
     ]
    },
    {
     "name": "stdout",
     "output_type": "stream",
     "text": [
      "Tabla de multiplicar del 2:\n",
      "2 x 1 = 2\n",
      "2 x 2 = 4\n",
      "2 x 3 = 6\n",
      "2 x 4 = 8\n",
      "2 x 5 = 10\n",
      "2 x 6 = 12\n",
      "2 x 7 = 14\n",
      "2 x 8 = 16\n",
      "2 x 9 = 18\n",
      "2 x 10 = 20\n"
     ]
    }
   ],
   "source": [
    "numero = int(input(\"Introduce un número: \"))\n",
    "# Tabla de multiplicar\n",
    "print(f\"Tabla de multiplicar del {numero}:\")\n",
    "for i in range(1, 11):\n",
    "    print(f\"{numero} x {i} = {numero * i}\")"
   ]
  },
  {
   "cell_type": "markdown",
   "id": "701f7298-aa00-4696-aa08-2a68bdbd9085",
   "metadata": {},
   "source": [
    "### Define una variable con una palabra e imprime cuántas vocales tiene."
   ]
  },
  {
   "cell_type": "code",
   "execution_count": 14,
   "id": "4027a197-7362-4590-ae4e-782ba5d6a533",
   "metadata": {},
   "outputs": [
    {
     "name": "stdin",
     "output_type": "stream",
     "text": [
      "Ingrese una palabra:  HOla\n"
     ]
    },
    {
     "name": "stdout",
     "output_type": "stream",
     "text": [
      "La palabra 'HOla' tiene 2 vocales.\n"
     ]
    }
   ],
   "source": [
    "palabra = input(\"Ingrese una palabra: \")\n",
    "\n",
    "vocales = \"aeiouAEIOU\"\n",
    "contador = sum(1 for letra in palabra if letra in vocales)\n",
    "\n",
    "print(f\"La palabra '{palabra}' tiene {contador} vocales.\")"
   ]
  }
 ],
 "metadata": {
  "kernelspec": {
   "display_name": "Python 3 (ipykernel)",
   "language": "python",
   "name": "python3"
  },
  "language_info": {
   "codemirror_mode": {
    "name": "ipython",
    "version": 3
   },
   "file_extension": ".py",
   "mimetype": "text/x-python",
   "name": "python",
   "nbconvert_exporter": "python",
   "pygments_lexer": "ipython3",
   "version": "3.11.7"
  }
 },
 "nbformat": 4,
 "nbformat_minor": 5
}
